{
 "cells": [
  {
   "cell_type": "code",
   "execution_count": 1,
   "metadata": {},
   "outputs": [],
   "source": [
    "from pyspark.sql import SparkSession, DataFrame\n",
    "\n",
    "from pyspark.sql.functions import count, sum, col"
   ]
  },
  {
   "cell_type": "code",
   "execution_count": 2,
   "metadata": {},
   "outputs": [],
   "source": [
    "spark = SparkSession.builder \\\n",
    "    .appName('Query MySQL database: creditcard_capstone') \\\n",
    "    .getOrCreate()\n",
    "\n",
    "spark.conf.set(\"spark.sql.repl.eagerEval.enabled\", True) # to see the entire contents of the DataFrame in the console output.\n"
   ]
  },
  {
   "cell_type": "code",
   "execution_count": 3,
   "metadata": {},
   "outputs": [],
   "source": [
    "mysql_database_name = 'creditcard_capstone'\n",
    "mysql_driver = 'com.mysql.jdbc.Driver'\n",
    "mysql_url = f'jdbc:mysql://localhost:3306/{mysql_database_name}'\n",
    "mysql_properties = {\n",
    "                'user': 'root',\n",
    "                'password': 'password'\n",
    "}"
   ]
  },
  {
   "cell_type": "code",
   "execution_count": 15,
   "metadata": {},
   "outputs": [],
   "source": [
    "customer_df = spark.read.jdbc(url=mysql_url, table='customer', properties=mysql_properties)\n",
    "credit_df = spark.read.jdbc(url=mysql_url, table='credit', properties=mysql_properties)\n",
    "branch_df = spark.read.jdbc(url=mysql_url, table='branch', properties=mysql_properties)"
   ]
  },
  {
   "attachments": {},
   "cell_type": "markdown",
   "metadata": {},
   "source": [
    "---"
   ]
  },
  {
   "attachments": {},
   "cell_type": "markdown",
   "metadata": {},
   "source": [
    "## 2.1 Transaction Details Module"
   ]
  },
  {
   "attachments": {},
   "cell_type": "markdown",
   "metadata": {},
   "source": [
    "1)    Used to display the transactions made by customers living in a given zip code for a given month and year. Order by day in descending order."
   ]
  },
  {
   "cell_type": "code",
   "execution_count": 5,
   "metadata": {},
   "outputs": [],
   "source": [
    "def get_input_zip_month_year() -> tuple[str, int, int]:\n",
    "    \"\"\"\n",
    "    Prompt the user to enter a zipcode, month, and year, and validate the inputs.\n",
    "\n",
    "    Returns:\n",
    "        A tuple containing the validated inputs: (zipcode, month, year)\n",
    "\n",
    "    Raises:\n",
    "        ValueError: If any of the inputs are invalid.\n",
    "\n",
    "    \"\"\"\n",
    "\n",
    "    def validate_zipcode(zipcode: str) -> None:\n",
    "        if len(zipcode) != 5 or not zipcode.isdigit():\n",
    "            raise ValueError(\"Invalid zipcode. Please enter a 5-digit numeric value.\")\n",
    "\n",
    "    def validate_month(month: int) -> None:\n",
    "        if not 1 <= month <= 12:\n",
    "            raise ValueError(\"Invalid month. Please enter a numeric value between 1 and 12.\")\n",
    "\n",
    "    def validate_year(year: int) -> None:\n",
    "        if len(str(year)) != 4 or not str(year).isdigit():\n",
    "            raise ValueError(\"Invalid year. Please enter a 4-digit numeric value.\")\n",
    "\n",
    "    while True:\n",
    "        try:\n",
    "            zipcode = input(\"Zipcode: \")\n",
    "            validate_zipcode(zipcode)\n",
    "            break\n",
    "        except ValueError as e:\n",
    "            print(str(e))\n",
    "\n",
    "    while True:\n",
    "        try:\n",
    "            month = int(input(\"Month: \"))\n",
    "            validate_month(month)\n",
    "            break\n",
    "        except ValueError as e:\n",
    "            print(str(e))\n",
    "\n",
    "    while True:\n",
    "        try:\n",
    "            year = int(input(\"Year: \"))\n",
    "            validate_year(year)\n",
    "            break\n",
    "        except ValueError as e:\n",
    "            print(str(e))\n",
    "\n",
    "    return zipcode, month, year"
   ]
  },
  {
   "cell_type": "code",
   "execution_count": 6,
   "metadata": {},
   "outputs": [],
   "source": [
    "def transactions_by_zip_month_year() -> None:\n",
    "    \"\"\"\n",
    "    Query credit data by joining with customer data and applying filters.\n",
    "\n",
    "    Args:\n",
    "        credit_df (DataFrame): The DataFrame containing the credit data.\n",
    "        customer_df (DataFrame): The DataFrame containing the customer data.\n",
    "\n",
    "    Returns:\n",
    "        DataFrame: The resulting DataFrame after joining and applying filters.\n",
    "\n",
    "    Raises:\n",
    "        ValueError: If the required input parameters are not provided.\n",
    "\n",
    "    \"\"\"\n",
    "\n",
    "    input_zip, input_month, input_year = get_input_zip_month_year()\n",
    "    \n",
    "    result_df = credit_df.join(customer_df, credit_df.CUST_SSN == customer_df.SSN, 'left') \\\n",
    "                         .where((customer_df.CUST_ZIP == input_zip) & (credit_df.MONTH == input_month) & (credit_df.YEAR == input_year)) \\\n",
    "                         .orderBy(credit_df.DAY)\n",
    "\n",
    "    result_df.show()"
   ]
  },
  {
   "cell_type": "code",
   "execution_count": 7,
   "metadata": {},
   "outputs": [
    {
     "name": "stdout",
     "output_type": "stream",
     "text": [
      "+-----------+----------------+---------+---+-----+--------------+----------------+-----------------+----+--------+------+----------------+---------+-------------+-------------------+-----------+----------+--------+----------+---------+--------------------+-----------+---------+-----------------+--------------------+\n",
      "|BRANCH_CODE|  CREDIT_CARD_NO| CUST_SSN|DAY|MONTH|TRANSACTION_ID|TRANSACTION_TYPE|TRANSACTION_VALUE|YEAR|  TIMEID|APT_NO|  CREDIT_CARD_NO|CUST_CITY| CUST_COUNTRY|         CUST_EMAIL| CUST_PHONE|CUST_STATE|CUST_ZIP|FIRST_NAME|LAST_NAME|        LAST_UPDATED|MIDDLE_NAME|      SSN|      STREET_NAME| FULL_STREET_ADDRESS|\n",
      "+-----------+----------------+---------+---+-----+--------------+----------------+-----------------+----+--------+------+----------------+---------+-------------+-------------------+-----------+----------+--------+----------+---------+--------------------+-----------+---------+-----------------+--------------------+\n",
      "|        192|4210653387378802|123457047|  2|   12|         15852|   Entertainment|            93.91|2018|20181202|   801|4210653387378802|  Natchez|United States|JMacias@example.com|(124)-047-6|        MS|   39120|    Judson|   Macias|2018-04-21T12:49:...|      lauri|123457047|    Summit Avenue|   Summit Avenue,801|\n",
      "|         53|4210653359877473|123457519|  2|   12|         12633|      Healthcare|            23.77|2018|20181202|   384|4210653359877473|  Natchez|United States|ICramer@example.com|(123)-867-9|        MS|   39120|    Isabel|   Cramer|2018-04-21T12:49:...|      james|123457519|  Sheffield Drive| Sheffield Drive,384|\n",
      "|         93|4210653396189363|123457139|  2|   12|         15215|       Education|            66.16|2018|20181202|   109|4210653396189363|  Natchez|United States|  BWare@example.com|(124)-231-6|        MS|   39120|     Blair|     Ware|2018-04-21T12:49:...|     antone|123457139|    Linden Street|   Linden Street,109|\n",
      "|        119|4210653374740577|123459564|  2|   12|          2214|       Education|            47.55|2018|20181202|    21|4210653374740577|  Natchez|United States|  KTodd@example.com|(123)-895-2|        MS|   39120|     Kraig|     Todd|2018-04-21T12:49:...|    dolores|123459564|     Durham Court|     Durham Court,21|\n",
      "|         52|4210653374740577|123459564|  2|   12|          2186|            Test|            44.62|2018|20181202|    21|4210653374740577|  Natchez|United States|  KTodd@example.com|(123)-895-2|        MS|   39120|     Kraig|     Todd|2018-04-21T12:49:...|    dolores|123459564|     Durham Court|     Durham Court,21|\n",
      "|        100|4210653323781193|123455582|  3|   12|         23017|       Education|            54.64|2018|20181203|   388|4210653323781193|  Natchez|United States|FCarson@example.com|(124)-093-9|        MS|   39120|    Fermin|   Carson|2018-04-21T12:49:...|        kip|123455582| 6th Street North|6th Street North,388|\n",
      "|          9|4210653323781193|123455582|  4|   12|         23028|       Education|            48.28|2018|20181204|   388|4210653323781193|  Natchez|United States|FCarson@example.com|(124)-093-9|        MS|   39120|    Fermin|   Carson|2018-04-21T12:49:...|        kip|123455582| 6th Street North|6th Street North,388|\n",
      "|         19|4210653323781193|123455582|  5|   12|         23008|   Entertainment|            10.62|2018|20181205|   388|4210653323781193|  Natchez|United States|FCarson@example.com|(124)-093-9|        MS|   39120|    Fermin|   Carson|2018-04-21T12:49:...|        kip|123455582| 6th Street North|6th Street North,388|\n",
      "|         59|4210653310061055|123456100|  5|   12|         20528|   Entertainment|             46.6|2018|20181205|   656|4210653310061055|  Natchez|United States|AHooper@example.com|(123)-781-8|        MS|   39120|      Alec|   Hooper|2018-04-21T12:49:...|         wm|123456100|Main Street North|Main Street North...|\n",
      "|         45|4210653396189363|123457139|  6|   12|         15187|   Entertainment|            37.42|2018|20181206|   109|4210653396189363|  Natchez|United States|  BWare@example.com|(124)-231-6|        MS|   39120|     Blair|     Ware|2018-04-21T12:49:...|     antone|123457139|    Linden Street|   Linden Street,109|\n",
      "|        170|4210653323781193|123455582|  8|   12|         23010|      Healthcare|            41.12|2018|20181208|   388|4210653323781193|  Natchez|United States|FCarson@example.com|(124)-093-9|        MS|   39120|    Fermin|   Carson|2018-04-21T12:49:...|        kip|123455582| 6th Street North|6th Street North,388|\n",
      "|          8|4210653310061055|123456100| 10|   12|         20558|   Entertainment|            84.13|2018|20181210|   656|4210653310061055|  Natchez|United States|AHooper@example.com|(123)-781-8|        MS|   39120|      Alec|   Hooper|2018-04-21T12:49:...|         wm|123456100|Main Street North|Main Street North...|\n",
      "|         22|4210653374740577|123459564| 12|   12|          2197|           Bills|            55.38|2018|20181212|    21|4210653374740577|  Natchez|United States|  KTodd@example.com|(123)-895-2|        MS|   39120|     Kraig|     Todd|2018-04-21T12:49:...|    dolores|123459564|     Durham Court|     Durham Court,21|\n",
      "|        173|4210653323781193|123455582| 14|   12|         22974|             Gas|            12.63|2018|20181214|   388|4210653323781193|  Natchez|United States|FCarson@example.com|(124)-093-9|        MS|   39120|    Fermin|   Carson|2018-04-21T12:49:...|        kip|123455582| 6th Street North|6th Street North,388|\n",
      "|        156|4210653396189363|123457139| 14|   12|         15195|             Gas|           100.23|2018|20181214|   109|4210653396189363|  Natchez|United States|  BWare@example.com|(124)-231-6|        MS|   39120|     Blair|     Ware|2018-04-21T12:49:...|     antone|123457139|    Linden Street|   Linden Street,109|\n",
      "|         21|4210653387378802|123457047| 15|   12|         15845|             Gas|            49.38|2018|20181215|   801|4210653387378802|  Natchez|United States|JMacias@example.com|(124)-047-6|        MS|   39120|    Judson|   Macias|2018-04-21T12:49:...|      lauri|123457047|    Summit Avenue|   Summit Avenue,801|\n",
      "|         17|4210653374740577|123459564| 15|   12|          2199|         Grocery|            86.06|2018|20181215|    21|4210653374740577|  Natchez|United States|  KTodd@example.com|(123)-895-2|        MS|   39120|     Kraig|     Todd|2018-04-21T12:49:...|    dolores|123459564|     Durham Court|     Durham Court,21|\n",
      "|         90|4210653362697310|123459262| 16|   12|          3524|           Bills|            87.92|2018|20181216|   718|4210653362697310|  Natchez|United States| MHagan@example.com|(124)-333-5|        MS|   39120|   Melissa|    Hagan|2018-04-21T12:49:...|    clifton|123459262|    Parker Street|   Parker Street,718|\n",
      "|         50|4210653374740577|123459564| 16|   12|          2208|      Healthcare|             51.9|2018|20181216|    21|4210653374740577|  Natchez|United States|  KTodd@example.com|(123)-895-2|        MS|   39120|     Kraig|     Todd|2018-04-21T12:49:...|    dolores|123459564|     Durham Court|     Durham Court,21|\n",
      "|         44|4210653359877473|123457519| 18|   12|         12638|         Grocery|            32.53|2018|20181218|   384|4210653359877473|  Natchez|United States|ICramer@example.com|(123)-867-9|        MS|   39120|    Isabel|   Cramer|2018-04-21T12:49:...|      james|123457519|  Sheffield Drive| Sheffield Drive,384|\n",
      "+-----------+----------------+---------+---+-----+--------------+----------------+-----------------+----+--------+------+----------------+---------+-------------+-------------------+-----------+----------+--------+----------+---------+--------------------+-----------+---------+-----------------+--------------------+\n",
      "only showing top 20 rows\n",
      "\n"
     ]
    }
   ],
   "source": [
    "transactions_by_zip_month_year()"
   ]
  },
  {
   "attachments": {},
   "cell_type": "markdown",
   "metadata": {},
   "source": [
    "---"
   ]
  },
  {
   "attachments": {},
   "cell_type": "markdown",
   "metadata": {},
   "source": [
    "2)    Used to display the number and total values of transactions for a given type."
   ]
  },
  {
   "cell_type": "code",
   "execution_count": 8,
   "metadata": {},
   "outputs": [],
   "source": [
    "def distinct_options(df: DataFrame, column_name: str) -> list[str]:\n",
    "    \"\"\"\n",
    "    Get the distinct options from a specific column in the DataFrame.\n",
    "\n",
    "    Args:\n",
    "        df (DataFrame): The DataFrame containing the data.\n",
    "        column_name (str): The name of the column to fetch distinct options from.\n",
    "\n",
    "    Returns:\n",
    "        list[str]: The list of distinct options from the specified column.\n",
    "\n",
    "    \"\"\"\n",
    "    distinct_options = df.select(column_name).distinct().rdd.flatMap(lambda x: x).collect()\n",
    "    return distinct_options\n"
   ]
  },
  {
   "cell_type": "code",
   "execution_count": 9,
   "metadata": {},
   "outputs": [],
   "source": [
    "def get_transaction_type() -> str:\n",
    "    \"\"\"\n",
    "    Prompt the user to enter a valid transaction type and validate the input.\n",
    "\n",
    "    Returns:\n",
    "        str: The validated transaction type entered by the user.\n",
    "\n",
    "    Raises:\n",
    "        ValueError: If the entered transaction type is not valid.\n",
    "\n",
    "    \"\"\"\n",
    "\n",
    "    valid_transaction_types = distinct_options(df = credit_df, column_name = 'TRANSACTION_TYPE') \n",
    "    valid_options = \", \".join(valid_transaction_types)\n",
    "\n",
    "    while True:\n",
    "        transaction_type = input(f\"Transaction Type ({valid_options}): \")\n",
    "        if transaction_type in valid_transaction_types:\n",
    "            break\n",
    "        print(f\"Invalid transaction type. Please enter a valid type from the given options: {valid_options}.\")\n",
    "    \n",
    "    return transaction_type"
   ]
  },
  {
   "cell_type": "code",
   "execution_count": 10,
   "metadata": {},
   "outputs": [],
   "source": [
    "def transaction_total_and_no_by_type() -> None:\n",
    "    \"\"\"\n",
    "    Query transaction data based on the user-provided transaction type.\n",
    "\n",
    "    Returns:\n",
    "        None\n",
    "\n",
    "    Raises:\n",
    "        ValueError: If the input transaction type is not valid.\n",
    "\n",
    "    \"\"\"\n",
    "\n",
    "    # get a valid input from the user\n",
    "    transaction_type = get_transaction_type() \n",
    "\n",
    "    result_df = credit_df.filter(credit_df.TRANSACTION_TYPE == transaction_type) \\\n",
    "                             .select(count('TRANSACTION_ID').alias('Total no of transactions'), \\\n",
    "                                     sum('TRANSACTION_VALUE').alias('Sum of Transaction Values'))\n",
    "\n",
    "    result_df.show()"
   ]
  },
  {
   "cell_type": "code",
   "execution_count": 11,
   "metadata": {},
   "outputs": [
    {
     "name": "stdout",
     "output_type": "stream",
     "text": [
      "+------------------------+-------------------------+\n",
      "|Total no of transactions|Sum of Transaction Values|\n",
      "+------------------------+-------------------------+\n",
      "|                    6635|        338950.1000000002|\n",
      "+------------------------+-------------------------+\n",
      "\n"
     ]
    }
   ],
   "source": [
    "transaction_total_and_no_by_type()"
   ]
  },
  {
   "attachments": {},
   "cell_type": "markdown",
   "metadata": {},
   "source": [
    "---"
   ]
  },
  {
   "attachments": {},
   "cell_type": "markdown",
   "metadata": {},
   "source": [
    "3)    Used to display the total number and total values of transactions for branches in a given state."
   ]
  },
  {
   "cell_type": "code",
   "execution_count": 16,
   "metadata": {},
   "outputs": [],
   "source": [
    "def get_valid_state() -> str:\n",
    "    \"\"\"\n",
    "    Prompt the user to enter a valid state and validate the input.\n",
    "\n",
    "    Returns:\n",
    "        str: The validated state entered by the user.\n",
    "\n",
    "    Raises:\n",
    "        ValueError: If the entered state is not valid.\n",
    "\n",
    "    \"\"\"\n",
    "\n",
    "    valid_states = distinct_options(df = branch_df, column_name = 'BRANCH_STATE')\n",
    "    valid_options = \", \".join(valid_states)\n",
    "\n",
    "    while True:\n",
    "        input_state = input(f\"State ({valid_options}): \")\n",
    "        if input_state in valid_states:\n",
    "            break\n",
    "        print(f\"Invalid state. Please enter a valid state from the given options: {valid_options}.\")\n",
    "    \n",
    "    return input_state"
   ]
  },
  {
   "cell_type": "code",
   "execution_count": 17,
   "metadata": {},
   "outputs": [
    {
     "name": "stdout",
     "output_type": "stream",
     "text": [
      "Invalid state. Please enter a valid state from the given options: SC, MN, NJ, VA, KY, MI, WI, CA, CT, MT, NC, MD, IL, WA, MS, AL, IN, OH, IA, PA, NY, TX, GA, MA, FL, AR.\n",
      "+-----------+-----------------+------------------+\n",
      "|BRANCH_CODE|Transaction_Count|   Transaction_Sum|\n",
      "+-----------+-----------------+------------------+\n",
      "|        124|              372|          18644.89|\n",
      "|          1|              374|18157.570000000007|\n",
      "|         20|              381|19350.830000000005|\n",
      "+-----------+-----------------+------------------+\n",
      "\n"
     ]
    }
   ],
   "source": [
    "def transaction_total_and_no_by_branch_on_state ()-> None:\n",
    "    \"\"\"\n",
    "    Process transaction data by querying based on user input of state.\n",
    "\n",
    "    Args:\n",
    "        credit_df (DataFrame): The DataFrame containing the credit data.\n",
    "        customer_df (DataFrame): The DataFrame containing the customer data.\n",
    "\n",
    "    \"\"\"\n",
    "\n",
    "    state = get_valid_state()\n",
    "\n",
    "    result_df = credit_df.join(branch_df, credit_df.BRANCH_CODE == branch_df.BRANCH_CODE, 'left') \\\n",
    "                         .where(branch_df.BRANCH_STATE == 'MN') \\\n",
    "                         .groupBy(branch_df.BRANCH_CODE) \\\n",
    "                         .agg(count(credit_df.TRANSACTION_ID).alias('Transaction_Count'), sum(credit_df.TRANSACTION_VALUE).alias('Transaction_Sum'))\n",
    "\n",
    "    result_df.show()"
   ]
  },
  {
   "cell_type": "code",
   "execution_count": null,
   "metadata": {},
   "outputs": [],
   "source": [
    "transaction_total_and_no_by_branch_on_state()"
   ]
  },
  {
   "attachments": {},
   "cell_type": "markdown",
   "metadata": {},
   "source": [
    "---"
   ]
  },
  {
   "attachments": {},
   "cell_type": "markdown",
   "metadata": {},
   "source": [
    "## 2.2 Customer Details Module"
   ]
  },
  {
   "attachments": {},
   "cell_type": "markdown",
   "metadata": {},
   "source": [
    "1) Used to check the existing account details of a customer.\n",
    "2) Used to modify the existing account details of a customer.\n",
    "3) Used to generate a monthly bill for a credit card number for a given month and year.\n",
    "4) Used to display the transactions made by a customer between two dates. Order by year, month, and day in descending order.\n"
   ]
  },
  {
   "cell_type": "code",
   "execution_count": null,
   "metadata": {},
   "outputs": [],
   "source": []
  }
 ],
 "metadata": {
  "kernelspec": {
   "display_name": "Python 3",
   "language": "python",
   "name": "python3"
  },
  "language_info": {
   "codemirror_mode": {
    "name": "ipython",
    "version": 3
   },
   "file_extension": ".py",
   "mimetype": "text/x-python",
   "name": "python",
   "nbconvert_exporter": "python",
   "pygments_lexer": "ipython3",
   "version": "3.10.7"
  },
  "orig_nbformat": 4
 },
 "nbformat": 4,
 "nbformat_minor": 2
}
