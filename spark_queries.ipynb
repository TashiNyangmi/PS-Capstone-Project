{
 "cells": [
  {
   "cell_type": "code",
   "execution_count": 2,
   "metadata": {},
   "outputs": [],
   "source": [
    "# json_to_psql.ipynb: check datatype of TIMEID\n",
    "# implement approprate input validation while updating dataframe in 2.2 (2)\n",
    "# implement decorators? for get_zip_code(), get_month() and get_year()"
   ]
  },
  {
   "cell_type": "code",
   "execution_count": 3,
   "metadata": {},
   "outputs": [],
   "source": [
    "from pyspark.sql import SparkSession, DataFrame\n",
    "\n",
    "from pyspark.sql.functions import count, sum, col, when\n",
    "\n",
    "from typing import Union"
   ]
  },
  {
   "cell_type": "code",
   "execution_count": 4,
   "metadata": {},
   "outputs": [],
   "source": [
    "spark = SparkSession.builder \\\n",
    "    .appName('Query MySQL database: creditcard_capstone') \\\n",
    "    .getOrCreate()\n",
    "\n",
    "spark.conf.set(\"spark.sql.repl.eagerEval.enabled\", True) # to see the entire contents of the DataFrame in the console output."
   ]
  },
  {
   "cell_type": "code",
   "execution_count": 5,
   "metadata": {},
   "outputs": [],
   "source": [
    "mysql_database_name = 'creditcard_capstone'\n",
    "mysql_driver = 'com.mysql.jdbc.Driver'\n",
    "mysql_url = f'jdbc:mysql://localhost:3306/{mysql_database_name}'\n",
    "mysql_properties = {\n",
    "                'user': 'root',\n",
    "                'password': 'password'\n",
    "}"
   ]
  },
  {
   "cell_type": "code",
   "execution_count": 8,
   "metadata": {},
   "outputs": [],
   "source": [
    "customer_df = spark.read.jdbc(url=mysql_url, table='cdw_sapp_customer', properties=mysql_properties)\n",
    "credit_df = spark.read.jdbc(url=mysql_url, table='cdw_sapp_credit_card', properties=mysql_properties)\n",
    "branch_df = spark.read.jdbc(url=mysql_url, table='cdw_sapp_branch', properties=mysql_properties)"
   ]
  },
  {
   "attachments": {},
   "cell_type": "markdown",
   "metadata": {},
   "source": [
    "---"
   ]
  },
  {
   "attachments": {},
   "cell_type": "markdown",
   "metadata": {},
   "source": [
    "## 2.1 Transaction Details Module"
   ]
  },
  {
   "attachments": {},
   "cell_type": "markdown",
   "metadata": {},
   "source": [
    "1)    Used to display the transactions made by customers living in a given zip code for a given month and year. Order by day in descending order."
   ]
  },
  {
   "cell_type": "code",
   "execution_count": 9,
   "metadata": {},
   "outputs": [],
   "source": [
    "def get_zipcode() -> str:\n",
    "    \"\"\"\n",
    "    Prompts the user to enter a valid 5-digit zipcode.\n",
    "\n",
    "    Returns:\n",
    "        str: The valid 5-digit zipcode entered by the user.\n",
    "    \"\"\"\n",
    "    def validate_zipcode(zipcode: str) -> None:\n",
    "        \"\"\"\n",
    "        Validates the format of the given zipcode.\n",
    "\n",
    "        Args:\n",
    "            zipcode (str): The zipcode to validate.\n",
    "\n",
    "        Raises:\n",
    "            ValueError: If the zipcode is not a 5-digit numeric value.\n",
    "        \"\"\"\n",
    "        if len(zipcode) != 5 or not zipcode.isdigit():\n",
    "            raise ValueError(\"Invalid zipcode. Please enter a 5-digit numeric value.\")\n",
    "\n",
    "    while True:\n",
    "        try:\n",
    "            zipcode = input(\"Zipcode: \")\n",
    "            validate_zipcode(zipcode)\n",
    "            break\n",
    "        except ValueError as e:\n",
    "            print(str(e))\n",
    "\n",
    "    return zipcode\n"
   ]
  },
  {
   "cell_type": "code",
   "execution_count": 10,
   "metadata": {},
   "outputs": [],
   "source": [
    "def get_month() -> int:\n",
    "    \"\"\"\n",
    "    Prompts the user to enter a valid month.\n",
    "\n",
    "    Returns:\n",
    "        int: The valid month entered by the user (numeric value between 1 and 12).\n",
    "    \"\"\"\n",
    "    def validate_month(month: int) -> None:\n",
    "        \"\"\"\n",
    "        Validates the given month.\n",
    "\n",
    "        Args:\n",
    "            month (int): The month to validate.\n",
    "\n",
    "        Raises:\n",
    "            ValueError: If the month is not a numeric value between 1 and 12.\n",
    "        \"\"\"\n",
    "        if not 1 <= month <= 12:\n",
    "            raise ValueError(\"Invalid month. Please enter a numeric value between 1 and 12.\")\n",
    "\n",
    "    while True:\n",
    "        try:\n",
    "            month = int(input(\"Month: \"))\n",
    "            validate_month(month)\n",
    "            break\n",
    "        except ValueError as e:\n",
    "            print(str(e))\n",
    "\n",
    "    return month\n"
   ]
  },
  {
   "cell_type": "code",
   "execution_count": 11,
   "metadata": {},
   "outputs": [],
   "source": [
    "def get_year() -> int:\n",
    "    \"\"\"\n",
    "    Prompts the user to enter a valid year.\n",
    "\n",
    "    Returns:\n",
    "        int: The valid year entered by the user (4-digit numeric value).\n",
    "    \"\"\"\n",
    "    def validate_year(year: int) -> None:\n",
    "        \"\"\"\n",
    "        Validates the given year.\n",
    "\n",
    "        Args:\n",
    "            year (int): The year to validate.\n",
    "\n",
    "        Raises:\n",
    "            ValueError: If the year is not a 4-digit numeric value.\n",
    "        \"\"\"\n",
    "        if len(str(year)) != 4 or not str(year).isdigit():\n",
    "            raise ValueError(\"Invalid year. Please enter a 4-digit numeric value.\")\n",
    "\n",
    "    while True:\n",
    "        try:\n",
    "            year = int(input(\"Year: \"))\n",
    "            validate_year(year)\n",
    "            break\n",
    "        except ValueError as e:\n",
    "            print(str(e))\n",
    "\n",
    "    return year\n"
   ]
  },
  {
   "cell_type": "code",
   "execution_count": 12,
   "metadata": {},
   "outputs": [],
   "source": [
    "def transactions_by_zip_month_year() -> None:\n",
    "    \"\"\"\n",
    "    Displays transactions made by customers living in a given zip code for a given month and year,\n",
    "    ordered by day in ascending order.\n",
    "    \"\"\"\n",
    "    filters = (customer_df.CUST_ZIP == get_zipcode()) & \\\n",
    "              (credit_df.MONTH == get_month()) & \\\n",
    "              (credit_df.YEAR == get_year())\n",
    "\n",
    "    result_df = credit_df.join(customer_df, credit_df.CUST_SSN == customer_df.SSN, 'left') \\\n",
    "                         .where(filters) \\\n",
    "                         .orderBy(credit_df.DAY)\n",
    "\n",
    "    result_df.show()"
   ]
  },
  {
   "attachments": {},
   "cell_type": "markdown",
   "metadata": {},
   "source": [
    "---"
   ]
  },
  {
   "attachments": {},
   "cell_type": "markdown",
   "metadata": {},
   "source": [
    "2)    Used to display the number and total values of transactions for a given type."
   ]
  },
  {
   "cell_type": "code",
   "execution_count": 13,
   "metadata": {},
   "outputs": [],
   "source": [
    "def distinct_options(df: DataFrame, column_name: str) -> list[str]:\n",
    "    \"\"\"\n",
    "    Get the distinct options from a specific column in the DataFrame.\n",
    "\n",
    "    Args:\n",
    "        df (DataFrame): The DataFrame containing the data.\n",
    "        column_name (str): The name of the column to fetch distinct options from.\n",
    "\n",
    "    Returns:\n",
    "        list[str]: The list of distinct options from the specified column.\n",
    "\n",
    "    \"\"\"\n",
    "    distinct_options = df.select(column_name).distinct().rdd.flatMap(lambda x: x).collect()\n",
    "    return distinct_options\n"
   ]
  },
  {
   "cell_type": "code",
   "execution_count": 14,
   "metadata": {},
   "outputs": [],
   "source": [
    "def get_valid_input(df: DataFrame, column_name: str) -> str:\n",
    "    \"\"\"\n",
    "    Prompts the user to enter a valid input from the distinct options available in the specified column of a DataFrame.\n",
    "\n",
    "    Args:\n",
    "        df (DataFrame): The DataFrame containing the data.\n",
    "        column_name (str): The name of the column to get valid input from.\n",
    "\n",
    "    Returns:\n",
    "        str: The valid input entered by the user.\n",
    "\n",
    "    Raises:\n",
    "        ValueError: If the DataFrame or column name is not provided.\n",
    "    \"\"\"\n",
    "    valid_input_list = distinct_options(df=df, column_name=column_name)\n",
    "    valid_options = \", \".join(valid_input_list)\n",
    "\n",
    "    while True:\n",
    "        input_value = input(f\"{column_name} ({valid_options}): \")\n",
    "        if input_value in valid_input_list:\n",
    "            break\n",
    "        print(f\"Invalid {column_name}. Please enter a valid input from the given options: {valid_options}.\")\n",
    "\n",
    "    return input_value\n"
   ]
  },
  {
   "cell_type": "code",
   "execution_count": 15,
   "metadata": {},
   "outputs": [],
   "source": [
    "def transaction_total_and_no_by_type() -> None:\n",
    "    \"\"\"\n",
    "    Query transaction data based on the user-provided transaction type.\n",
    "\n",
    "    Returns:\n",
    "        None\n",
    "\n",
    "    Raises:\n",
    "        ValueError: If the input transaction type is not valid.\n",
    "\n",
    "    \"\"\"\n",
    "\n",
    "    transaction_type = get_valid_input(credit_df, column_name= 'TRANSACTION_TYPE') \n",
    "\n",
    "    result_df = credit_df.filter(credit_df.TRANSACTION_TYPE == transaction_type) \\\n",
    "                             .select(count('TRANSACTION_ID').alias('Total no of transactions'), \\\n",
    "                                     sum('TRANSACTION_VALUE').alias('Sum of Transaction Values'))\n",
    "\n",
    "    result_df.show()"
   ]
  },
  {
   "attachments": {},
   "cell_type": "markdown",
   "metadata": {},
   "source": [
    "---"
   ]
  },
  {
   "attachments": {},
   "cell_type": "markdown",
   "metadata": {},
   "source": [
    "3)    Used to display the total number and total values of transactions for branches in a given state."
   ]
  },
  {
   "cell_type": "code",
   "execution_count": 16,
   "metadata": {},
   "outputs": [],
   "source": [
    "def transaction_total_and_no_by_branch_on_state ()-> None:\n",
    "    \"\"\"\n",
    "    Process transaction data by querying based on user input of state.\n",
    "\n",
    "    Args:\n",
    "        credit_df (DataFrame): The DataFrame containing the credit data.\n",
    "        customer_df (DataFrame): The DataFrame containing the customer data.\n",
    "\n",
    "    \"\"\"\n",
    "\n",
    "    state = get_valid_input(branch_df, column_name='BRANCH_STATE')\n",
    "\n",
    "    result_df = credit_df.join(branch_df, credit_df.BRANCH_CODE == branch_df.BRANCH_CODE, 'left') \\\n",
    "                         .where(branch_df.BRANCH_STATE == 'MN') \\\n",
    "                         .groupBy(branch_df.BRANCH_CODE) \\\n",
    "                         .agg(count(credit_df.TRANSACTION_ID).alias('Transaction_Count'), \\\n",
    "                              sum(credit_df.TRANSACTION_VALUE).alias('Transaction_Sum'))\n",
    "\n",
    "    result_df.show()"
   ]
  },
  {
   "attachments": {},
   "cell_type": "markdown",
   "metadata": {},
   "source": [
    "---"
   ]
  },
  {
   "attachments": {},
   "cell_type": "markdown",
   "metadata": {},
   "source": [
    "## 2.2 Customer Details Module"
   ]
  },
  {
   "attachments": {},
   "cell_type": "markdown",
   "metadata": {},
   "source": [
    "1) Used to check the existing account details of a customer.\n"
   ]
  },
  {
   "cell_type": "code",
   "execution_count": 17,
   "metadata": {},
   "outputs": [],
   "source": [
    "def choose_one_from(available_options: list, msg: str = \"Available Options\") -> str:\n",
    "    \"\"\"\n",
    "    Prompts the user to choose one option from the given list of available options.\n",
    "\n",
    "    Args:\n",
    "        available_options (list): The list of available options to choose from.\n",
    "        msg (str, optional): The message to display when prompting the user for input. Defaults to \"Available Options\".\n",
    "\n",
    "    Returns:\n",
    "        str: The selected option entered by the user.\n",
    "\n",
    "    Raises:\n",
    "        ValueError: If the available_options list is empty.\n",
    "    \"\"\"\n",
    "    if not available_options:\n",
    "        raise ValueError(\"No options provided.\")\n",
    "\n",
    "    while True:\n",
    "        selected_option = input(f\"{msg} ({', '.join(available_options)}): \")\n",
    "        if selected_option in available_options:\n",
    "            break\n",
    "        print(f\"Invalid option. Please enter a valid option from the given list: {', '.join(available_options)}\")\n",
    "\n",
    "    return selected_option\n"
   ]
  },
  {
   "cell_type": "code",
   "execution_count": 18,
   "metadata": {},
   "outputs": [],
   "source": [
    "def show_account_details() -> None:\n",
    "    \"\"\"\n",
    "    Retrieves and displays account details based on user input.\n",
    "\n",
    "    Returns:\n",
    "        None\n",
    "    \"\"\"\n",
    "    valid_column_names = customer_df.columns\n",
    "\n",
    "    filter_column = choose_one_from(valid_column_names)\n",
    "    filter_value = get_valid_input(df=customer_df, column_name=filter_column)\n",
    "\n",
    "    result_df = customer_df.filter(customer_df[filter_column] == filter_value)\n",
    "    result_df.show()\n"
   ]
  },
  {
   "attachments": {},
   "cell_type": "markdown",
   "metadata": {},
   "source": [
    "2) Used to modify the existing account details of a customer."
   ]
  },
  {
   "cell_type": "code",
   "execution_count": 19,
   "metadata": {},
   "outputs": [],
   "source": [
    "def update_dataframe() -> None:\n",
    "    \"\"\"\n",
    "    Update values in a PySpark DataFrame based on a filter condition.\n",
    "\n",
    "    Returns:\n",
    "        None.\n",
    "\n",
    "    \"\"\"\n",
    "    valid_column_names = customer_df.columns\n",
    "\n",
    "    filter_column = choose_one_from(valid_column_names, msg = 'Select Column to filter with')\n",
    "    filter_value = get_valid_input(df = customer_df, column_name = filter_column)\n",
    "\n",
    "    column_to_update = choose_one_from(valid_column_names, msg = 'Column to update')\n",
    "    new_value = input(\"Enter new value:\") # can implement appropriate input validation here\n",
    "\n",
    "    customer_df = customer_df.withColumn(\n",
    "                                        column_to_update, \n",
    "                                        when(col(filter_column) == filter_value, new_value).otherwise(col(column_to_update)))\n",
    "    "
   ]
  },
  {
   "attachments": {},
   "cell_type": "markdown",
   "metadata": {},
   "source": [
    "3) Used to generate a monthly bill for a credit card number for a given month and year."
   ]
  },
  {
   "cell_type": "code",
   "execution_count": 20,
   "metadata": {},
   "outputs": [],
   "source": [
    "def get_valid_16_digit_input() -> str:\n",
    "    \"\"\"\n",
    "    Prompts the user to enter a valid 16-digit number.\n",
    "\n",
    "    Returns:\n",
    "        str: The valid 16-digit number entered by the user.\n",
    "    \"\"\"\n",
    "    while True:\n",
    "        input_value = input(\"Enter a 16-digit number: \")\n",
    "        if input_value.isdigit() and len(input_value) == 16:\n",
    "            break\n",
    "        print(\"Invalid input. Please enter a 16-digit number.\")\n",
    "\n",
    "    return input_value\n"
   ]
  },
  {
   "cell_type": "code",
   "execution_count": 21,
   "metadata": {},
   "outputs": [],
   "source": [
    "def generate_monthly_bill() -> DataFrame:\n",
    "    \"\"\"\n",
    "    Generates a monthly bill based on user input.\n",
    "\n",
    "    Returns:\n",
    "        DataFrame: The resulting DataFrame containing the selected columns for the specified credit card number, month, and year.\n",
    "    \"\"\"\n",
    "    input_cc_no = get_valid_16_digit_input()\n",
    "    input_year = get_year()\n",
    "    input_month = get_month()\n",
    "\n",
    "    result_df = credit_df.filter((credit_df['CREDIT_CARD_NO'] == input_cc_no) &\n",
    "                                (credit_df['MONTH'] == input_month) &\n",
    "                                (credit_df['YEAR'] == input_year))\n",
    "\n",
    "    return result_df.select(['TRANSACTION_ID', 'DAY', 'MONTH', 'YEAR', 'TRANSACTION_TYPE', 'TRANSACTION_VALUE'])\n"
   ]
  },
  {
   "cell_type": "code",
   "execution_count": 22,
   "metadata": {},
   "outputs": [],
   "source": [
    "def print_transaction_summary(df: DataFrame) -> None:\n",
    "    \"\"\"\n",
    "    Prints a summary of the transactions in the provided DataFrame.\n",
    "\n",
    "    Args:\n",
    "        df (DataFrame): The DataFrame containing the transactions.\n",
    "\n",
    "    Returns:\n",
    "        None\n",
    "    \"\"\"\n",
    "    total_and_count = df.agg({'TRANSACTION_VALUE': 'SUM', 'TRANSACTION_ID': 'COUNT'}).first()\n",
    "    total = total_and_count['sum(TRANSACTION_VALUE)']\n",
    "    count = total_and_count['count(TRANSACTION_ID)']\n",
    "\n",
    "    print(f'Summary: There were {count} transactions totaling $ {total}')"
   ]
  },
  {
   "cell_type": "code",
   "execution_count": 23,
   "metadata": {},
   "outputs": [],
   "source": [
    "def display_monthly_bill() -> None:\n",
    "    \"\"\"\n",
    "    Displays the monthly bill and transaction summary.\n",
    "\n",
    "    Returns:\n",
    "        None\n",
    "    \"\"\"\n",
    "    result_df = generate_monthly_bill()\n",
    "    print(result_df)\n",
    "    print_transaction_summary(result_df)"
   ]
  },
  {
   "attachments": {},
   "cell_type": "markdown",
   "metadata": {},
   "source": [
    "4) Used to display the transactions made by a customer between two dates. Order by year, month, and day in descending order."
   ]
  },
  {
   "cell_type": "code",
   "execution_count": 24,
   "metadata": {},
   "outputs": [],
   "source": [
    "def get_date_input() -> tuple:\n",
    "    \"\"\"\n",
    "    Prompts the user to enter a valid date in the format YYYY-MM-DD.\n",
    "\n",
    "    Returns:\n",
    "        tuple: A tuple containing the year, month, and day extracted from the input date.\n",
    "\n",
    "    Raises:\n",
    "        ValueError: If the date format is invalid.\n",
    "    \"\"\"\n",
    "    while True:\n",
    "        date_str = input(\"Enter a date (YYYY-MM-DD): \")\n",
    "        try:\n",
    "            year, month, day = map(int, date_str.split('-'))\n",
    "            return year, month, day\n",
    "        except ValueError:\n",
    "            print(\"Invalid date format. Please enter a date in the format YYYY-MM-DD.\")\n"
   ]
  },
  {
   "cell_type": "code",
   "execution_count": 25,
   "metadata": {},
   "outputs": [],
   "source": [
    "def transaction_between_dates() -> None:\n",
    "    \"\"\"\n",
    "    Displays transactions between two specified dates and prints a transaction summary.\n",
    "\n",
    "    Returns:\n",
    "        None\n",
    "    \"\"\"\n",
    "    start_year, start_month, start_day = get_date_input()\n",
    "    end_year, end_month, end_day = get_date_input()\n",
    "\n",
    "    result_df = credit_df.filter((credit_df['DAY'].between(start_day, end_day)) &\n",
    "                                 (credit_df['MONTH'].between(start_month, end_month)) &\n",
    "                                 (credit_df['YEAR'].between(start_year, end_year)) &\n",
    "                                 (credit_df['CREDIT_CARD_NO'] == get_valid_16_digit_input()))\n",
    "    result_df.show()\n",
    "\n",
    "    print_transaction_summary(result_df)"
   ]
  },
  {
   "cell_type": "code",
   "execution_count": 26,
   "metadata": {},
   "outputs": [],
   "source": [
    "spark.stop()"
   ]
  },
  {
   "attachments": {},
   "cell_type": "markdown",
   "metadata": {},
   "source": [
    "---"
   ]
  }
 ],
 "metadata": {
  "kernelspec": {
   "display_name": "Python 3",
   "language": "python",
   "name": "python3"
  },
  "language_info": {
   "codemirror_mode": {
    "name": "ipython",
    "version": 3
   },
   "file_extension": ".py",
   "mimetype": "text/x-python",
   "name": "python",
   "nbconvert_exporter": "python",
   "pygments_lexer": "ipython3",
   "version": "3.10.7"
  },
  "orig_nbformat": 4
 },
 "nbformat": 4,
 "nbformat_minor": 2
}
