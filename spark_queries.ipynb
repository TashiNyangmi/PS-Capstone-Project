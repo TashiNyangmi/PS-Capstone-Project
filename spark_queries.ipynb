{
 "cells": [
  {
   "cell_type": "code",
   "execution_count": null,
   "metadata": {},
   "outputs": [],
   "source": [
    "# Consolidate: get_valid_state() and get_transaction_type()\n",
    "# json_to_psql.ipynb: check datatype of TIMEID"
   ]
  },
  {
   "cell_type": "code",
   "execution_count": 3,
   "metadata": {},
   "outputs": [],
   "source": [
    "from pyspark.sql import SparkSession, DataFrame\n",
    "\n",
    "from pyspark.sql.functions import count, sum, col, when\n",
    "\n",
    "from typing import Union"
   ]
  },
  {
   "cell_type": "code",
   "execution_count": 4,
   "metadata": {},
   "outputs": [],
   "source": [
    "spark = SparkSession.builder \\\n",
    "    .appName('Query MySQL database: creditcard_capstone') \\\n",
    "    .getOrCreate()\n",
    "\n",
    "spark.conf.set(\"spark.sql.repl.eagerEval.enabled\", True) # to see the entire contents of the DataFrame in the console output.\n"
   ]
  },
  {
   "cell_type": "code",
   "execution_count": 5,
   "metadata": {},
   "outputs": [],
   "source": [
    "mysql_database_name = 'creditcard_capstone'\n",
    "mysql_driver = 'com.mysql.jdbc.Driver'\n",
    "mysql_url = f'jdbc:mysql://localhost:3306/{mysql_database_name}'\n",
    "mysql_properties = {\n",
    "                'user': 'root',\n",
    "                'password': 'password'\n",
    "}"
   ]
  },
  {
   "cell_type": "code",
   "execution_count": 6,
   "metadata": {},
   "outputs": [],
   "source": [
    "customer_df = spark.read.jdbc(url=mysql_url, table='customer', properties=mysql_properties)\n",
    "credit_df = spark.read.jdbc(url=mysql_url, table='credit', properties=mysql_properties)\n",
    "branch_df = spark.read.jdbc(url=mysql_url, table='branch', properties=mysql_properties)"
   ]
  },
  {
   "attachments": {},
   "cell_type": "markdown",
   "metadata": {},
   "source": [
    "---"
   ]
  },
  {
   "attachments": {},
   "cell_type": "markdown",
   "metadata": {},
   "source": [
    "## 2.1 Transaction Details Module"
   ]
  },
  {
   "attachments": {},
   "cell_type": "markdown",
   "metadata": {},
   "source": [
    "1)    Used to display the transactions made by customers living in a given zip code for a given month and year. Order by day in descending order."
   ]
  },
  {
   "cell_type": "code",
   "execution_count": 7,
   "metadata": {},
   "outputs": [],
   "source": [
    "def get_input_zip_month_year() -> tuple[str, int, int]:\n",
    "    \"\"\"\n",
    "    Prompt the user to enter a zipcode, month, and year, and validate the inputs.\n",
    "\n",
    "    Returns:\n",
    "        A tuple containing the validated inputs: (zipcode, month, year)\n",
    "\n",
    "    Raises:\n",
    "        ValueError: If any of the inputs are invalid.\n",
    "\n",
    "    \"\"\"\n",
    "\n",
    "    def validate_zipcode(zipcode: str) -> None:\n",
    "        if len(zipcode) != 5 or not zipcode.isdigit():\n",
    "            raise ValueError(\"Invalid zipcode. Please enter a 5-digit numeric value.\")\n",
    "\n",
    "    def validate_month(month: int) -> None:\n",
    "        if not 1 <= month <= 12:\n",
    "            raise ValueError(\"Invalid month. Please enter a numeric value between 1 and 12.\")\n",
    "\n",
    "    def validate_year(year: int) -> None:\n",
    "        if len(str(year)) != 4 or not str(year).isdigit():\n",
    "            raise ValueError(\"Invalid year. Please enter a 4-digit numeric value.\")\n",
    "\n",
    "    while True:\n",
    "        try:\n",
    "            zipcode = input(\"Zipcode: \")\n",
    "            validate_zipcode(zipcode)\n",
    "            break\n",
    "        except ValueError as e:\n",
    "            print(str(e))\n",
    "\n",
    "    while True:\n",
    "        try:\n",
    "            month = int(input(\"Month: \"))\n",
    "            validate_month(month)\n",
    "            break\n",
    "        except ValueError as e:\n",
    "            print(str(e))\n",
    "\n",
    "    while True:\n",
    "        try:\n",
    "            year = int(input(\"Year: \"))\n",
    "            validate_year(year)\n",
    "            break\n",
    "        except ValueError as e:\n",
    "            print(str(e))\n",
    "\n",
    "    return zipcode, month, year"
   ]
  },
  {
   "cell_type": "code",
   "execution_count": 10,
   "metadata": {},
   "outputs": [],
   "source": [
    "def transactions_by_zip_month_year() -> None:\n",
    "    \"\"\"\n",
    "    Query credit data by joining with customer data and applying filters.\n",
    "\n",
    "    Args:\n",
    "        credit_df (DataFrame): The DataFrame containing the credit data.\n",
    "        customer_df (DataFrame): The DataFrame containing the customer data.\n",
    "\n",
    "    Returns:\n",
    "        DataFrame: The resulting DataFrame after joining and applying filters.\n",
    "\n",
    "    Raises:\n",
    "        ValueError: If the required input parameters are not provided.\n",
    "\n",
    "    \"\"\"\n",
    "\n",
    "    input_zip, input_month, input_year = get_input_zip_month_year()\n",
    "    \n",
    "    result_df = credit_df.join(customer_df, credit_df.CUST_SSN == customer_df.SSN, 'left') \\\n",
    "                         .where((customer_df.CUST_ZIP == input_zip) & (credit_df.MONTH == input_month) & (credit_df.YEAR == input_year)) \\\n",
    "                         .orderBy(credit_df.DAY)\n",
    "\n",
    "    result_df.show()"
   ]
  },
  {
   "attachments": {},
   "cell_type": "markdown",
   "metadata": {},
   "source": [
    "---"
   ]
  },
  {
   "attachments": {},
   "cell_type": "markdown",
   "metadata": {},
   "source": [
    "2)    Used to display the number and total values of transactions for a given type."
   ]
  },
  {
   "cell_type": "code",
   "execution_count": 11,
   "metadata": {},
   "outputs": [],
   "source": [
    "def distinct_options(df: DataFrame, column_name: str) -> list[str]:\n",
    "    \"\"\"\n",
    "    Get the distinct options from a specific column in the DataFrame.\n",
    "\n",
    "    Args:\n",
    "        df (DataFrame): The DataFrame containing the data.\n",
    "        column_name (str): The name of the column to fetch distinct options from.\n",
    "\n",
    "    Returns:\n",
    "        list[str]: The list of distinct options from the specified column.\n",
    "\n",
    "    \"\"\"\n",
    "    distinct_options = df.select(column_name).distinct().rdd.flatMap(lambda x: x).collect()\n",
    "    return distinct_options\n"
   ]
  },
  {
   "cell_type": "code",
   "execution_count": 12,
   "metadata": {},
   "outputs": [],
   "source": [
    "def get_transaction_type() -> str:\n",
    "    \"\"\"\n",
    "    Prompt the user to enter a valid transaction type and validate the input.\n",
    "\n",
    "    Returns:\n",
    "        str: The validated transaction type entered by the user.\n",
    "\n",
    "    Raises:\n",
    "        ValueError: If the entered transaction type is not valid.\n",
    "\n",
    "    \"\"\"\n",
    "\n",
    "    valid_transaction_types = distinct_options(df = credit_df, column_name = 'TRANSACTION_TYPE') \n",
    "    valid_options = \", \".join(valid_transaction_types)\n",
    "\n",
    "    while True:\n",
    "        transaction_type = input(f\"Transaction Type ({valid_options}): \")\n",
    "        if transaction_type in valid_transaction_types:\n",
    "            break\n",
    "        print(f\"Invalid transaction type. Please enter a valid type from the given options: {valid_options}.\")\n",
    "    \n",
    "    return transaction_type"
   ]
  },
  {
   "cell_type": "code",
   "execution_count": 13,
   "metadata": {},
   "outputs": [],
   "source": [
    "def transaction_total_and_no_by_type() -> None:\n",
    "    \"\"\"\n",
    "    Query transaction data based on the user-provided transaction type.\n",
    "\n",
    "    Returns:\n",
    "        None\n",
    "\n",
    "    Raises:\n",
    "        ValueError: If the input transaction type is not valid.\n",
    "\n",
    "    \"\"\"\n",
    "\n",
    "    # get a valid input from the user\n",
    "    transaction_type = get_transaction_type() \n",
    "\n",
    "    result_df = credit_df.filter(credit_df.TRANSACTION_TYPE == transaction_type) \\\n",
    "                             .select(count('TRANSACTION_ID').alias('Total no of transactions'), \\\n",
    "                                     sum('TRANSACTION_VALUE').alias('Sum of Transaction Values'))\n",
    "\n",
    "    result_df.show()"
   ]
  },
  {
   "attachments": {},
   "cell_type": "markdown",
   "metadata": {},
   "source": [
    "---"
   ]
  },
  {
   "attachments": {},
   "cell_type": "markdown",
   "metadata": {},
   "source": [
    "3)    Used to display the total number and total values of transactions for branches in a given state."
   ]
  },
  {
   "cell_type": "code",
   "execution_count": 14,
   "metadata": {},
   "outputs": [],
   "source": [
    "def get_valid_state() -> str:\n",
    "    \"\"\"\n",
    "    Prompt the user to enter a valid state and validate the input.\n",
    "\n",
    "    Returns:\n",
    "        str: The validated state entered by the user.\n",
    "\n",
    "    Raises:\n",
    "        ValueError: If the entered state is not valid.\n",
    "\n",
    "    \"\"\"\n",
    "\n",
    "    valid_states = distinct_options(df = branch_df, column_name = 'BRANCH_STATE')\n",
    "    valid_options = \", \".join(valid_states)\n",
    "\n",
    "    while True:\n",
    "        input_state = input(f\"State ({valid_options}): \")\n",
    "        if input_state in valid_states:\n",
    "            break\n",
    "        print(f\"Invalid state. Please enter a valid state from the given options: {valid_options}.\")\n",
    "    \n",
    "    return input_state"
   ]
  },
  {
   "cell_type": "code",
   "execution_count": 15,
   "metadata": {},
   "outputs": [],
   "source": [
    "def transaction_total_and_no_by_branch_on_state ()-> None:\n",
    "    \"\"\"\n",
    "    Process transaction data by querying based on user input of state.\n",
    "\n",
    "    Args:\n",
    "        credit_df (DataFrame): The DataFrame containing the credit data.\n",
    "        customer_df (DataFrame): The DataFrame containing the customer data.\n",
    "\n",
    "    \"\"\"\n",
    "\n",
    "    state = get_valid_state()\n",
    "\n",
    "    result_df = credit_df.join(branch_df, credit_df.BRANCH_CODE == branch_df.BRANCH_CODE, 'left') \\\n",
    "                         .where(branch_df.BRANCH_STATE == 'MN') \\\n",
    "                         .groupBy(branch_df.BRANCH_CODE) \\\n",
    "                         .agg(count(credit_df.TRANSACTION_ID).alias('Transaction_Count'), sum(credit_df.TRANSACTION_VALUE).alias('Transaction_Sum'))\n",
    "\n",
    "    result_df.show()"
   ]
  },
  {
   "attachments": {},
   "cell_type": "markdown",
   "metadata": {},
   "source": [
    "---"
   ]
  },
  {
   "attachments": {},
   "cell_type": "markdown",
   "metadata": {},
   "source": [
    "## 2.2 Customer Details Module"
   ]
  },
  {
   "attachments": {},
   "cell_type": "markdown",
   "metadata": {},
   "source": [
    "1) Used to check the existing account details of a customer.\n"
   ]
  },
  {
   "cell_type": "code",
   "execution_count": 16,
   "metadata": {},
   "outputs": [],
   "source": [
    "def get_valid_column_name(filter_options: list, msg: str = \"Filter Option\") -> str:\n",
    "    \"\"\"\n",
    "    Prompt the user to enter a valid filter option and validate the input.\n",
    "\n",
    "    Args:\n",
    "        filter_options (list): The list of available filter options.\n",
    "\n",
    "    Returns:\n",
    "        str: The validated filter option entered by the user.\n",
    "\n",
    "    Raises:\n",
    "        ValueError: If the entered filter option is not valid.\n",
    "\n",
    "    \"\"\"\n",
    "    while True:\n",
    "        filter_option = input(f\"{msg}({', '.join(filter_options)}): \")\n",
    "        if filter_option in filter_options:\n",
    "            break\n",
    "        print(f\"Invalid filter option. Please enter a valid option from the given list: {', '.join(filter_options)}\")\n",
    "\n",
    "    return filter_option"
   ]
  },
  {
   "cell_type": "code",
   "execution_count": 17,
   "metadata": {},
   "outputs": [],
   "source": [
    "def get_valid_value(msg: str = \"Filter Value: \") -> Union[str, int]:\n",
    "    \"\"\"\n",
    "    Prompt the user to enter a valid filter value and validate the input.\n",
    "\n",
    "    Returns:\n",
    "        Union[str, int]: The validated filter value entered by the user.\n",
    "\n",
    "    Raises:\n",
    "        ValueError: If the entered filter value is not valid.\n",
    "\n",
    "    \"\"\"\n",
    "    input_value = input(msg)\n",
    "\n",
    "    try:\n",
    "        input_value = int(input_value)\n",
    "    except ValueError:\n",
    "        pass\n",
    "\n",
    "    return input_value\n"
   ]
  },
  {
   "cell_type": "code",
   "execution_count": 18,
   "metadata": {},
   "outputs": [],
   "source": [
    "def account_details():\n",
    "    \"\"\"\n",
    "    Perform account details lookup based on user input.\n",
    "\n",
    "    \"\"\"\n",
    "    valid_column_names = customer_df.columns\n",
    "\n",
    "    filter_column = get_valid_column_name(valid_column_names)\n",
    "    filter_value = get_valid_value()\n",
    "\n",
    "    result_df = customer_df.filter(customer_df[filter_column] == filter_value)\n",
    "    result_df.show()"
   ]
  },
  {
   "attachments": {},
   "cell_type": "markdown",
   "metadata": {},
   "source": [
    "2) Used to modify the existing account details of a customer."
   ]
  },
  {
   "cell_type": "code",
   "execution_count": 19,
   "metadata": {},
   "outputs": [],
   "source": [
    "def update_dataframe() -> DataFrame:\n",
    "    \"\"\"\n",
    "    Update values in a PySpark DataFrame based on a filter condition.\n",
    "\n",
    "    Returns:\n",
    "        DataFrame: The updated PySpark DataFrame.\n",
    "\n",
    "    \"\"\"\n",
    "    valid_column_names = customer_df.columns\n",
    "\n",
    "    filter_column = get_valid_column_name(valid_column_names)\n",
    "    filter_value = get_valid_value()\n",
    "\n",
    "    column_to_update = get_valid_column_name(valid_column_names, msg = 'Column to update')\n",
    "    new_value = get_valid_value(msg = 'New Value')\n",
    "\n",
    "    updated_df = customer_df.withColumn(\n",
    "        column_to_update, \n",
    "        when(col(filter_column) == filter_value, new_value).otherwise(col(column_to_update)))\n",
    "    \n",
    "    return updated_df"
   ]
  },
  {
   "attachments": {},
   "cell_type": "markdown",
   "metadata": {},
   "source": [
    "3) Used to generate a monthly bill for a credit card number for a given month and year.\n",
    "4) Used to display the transactions made by a customer between two dates. Order by year, month, and day in descending order."
   ]
  },
  {
   "cell_type": "code",
   "execution_count": 33,
   "metadata": {},
   "outputs": [],
   "source": [
    "input_cc_no = 4210653366110577\t\n",
    "input_year = 2018\n",
    "input_month = 12\n",
    "\n",
    "result_df = credit_df.filter((credit_df['CREDIT_CARD_NO'] == input_cc_no) &\n",
    "                             (credit_df['MONTH'] == input_month) &\n",
    "                             (credit_df['YEAR'] == input_year))"
   ]
  },
  {
   "cell_type": "code",
   "execution_count": 35,
   "metadata": {},
   "outputs": [],
   "source": [
    "len(input_)"
   ]
  },
  {
   "cell_type": "code",
   "execution_count": 38,
   "metadata": {},
   "outputs": [
    {
     "data": {
      "text/html": [
       "<table border='1'>\n",
       "<tr><th>TRANSACTION_ID</th><th>DAY</th><th>MONTH</th><th>YEAR</th><th>TRANSACTION_TYPE</th><th>TRANSACTION_VALUE</th></tr>\n",
       "<tr><td>34637</td><td>20</td><td>12</td><td>2018</td><td>Test</td><td>83.54</td></tr>\n",
       "<tr><td>34642</td><td>3</td><td>12</td><td>2018</td><td>Gas</td><td>65.94</td></tr>\n",
       "<tr><td>34644</td><td>17</td><td>12</td><td>2018</td><td>Education</td><td>45.11</td></tr>\n",
       "<tr><td>34647</td><td>23</td><td>12</td><td>2018</td><td>Bills</td><td>76.65</td></tr>\n",
       "<tr><td>34651</td><td>11</td><td>12</td><td>2018</td><td>Test</td><td>92.65</td></tr>\n",
       "<tr><td>34570</td><td>1</td><td>12</td><td>2018</td><td>Grocery</td><td>61.14</td></tr>\n",
       "<tr><td>34597</td><td>27</td><td>12</td><td>2018</td><td>Test</td><td>34.98</td></tr>\n",
       "<tr><td>34603</td><td>22</td><td>12</td><td>2018</td><td>Education</td><td>90.82</td></tr>\n",
       "<tr><td>34615</td><td>20</td><td>12</td><td>2018</td><td>Test</td><td>62.88</td></tr>\n",
       "<tr><td>34621</td><td>5</td><td>12</td><td>2018</td><td>Gas</td><td>13.15</td></tr>\n",
       "<tr><td>34624</td><td>22</td><td>12</td><td>2018</td><td>Test</td><td>56.39</td></tr>\n",
       "<tr><td>34625</td><td>23</td><td>12</td><td>2018</td><td>Grocery</td><td>13.68</td></tr>\n",
       "</table>\n"
      ],
      "text/plain": [
       "+--------------+---+-----+----+----------------+-----------------+\n",
       "|TRANSACTION_ID|DAY|MONTH|YEAR|TRANSACTION_TYPE|TRANSACTION_VALUE|\n",
       "+--------------+---+-----+----+----------------+-----------------+\n",
       "|         34637| 20|   12|2018|            Test|            83.54|\n",
       "|         34642|  3|   12|2018|             Gas|            65.94|\n",
       "|         34644| 17|   12|2018|       Education|            45.11|\n",
       "|         34647| 23|   12|2018|           Bills|            76.65|\n",
       "|         34651| 11|   12|2018|            Test|            92.65|\n",
       "|         34570|  1|   12|2018|         Grocery|            61.14|\n",
       "|         34597| 27|   12|2018|            Test|            34.98|\n",
       "|         34603| 22|   12|2018|       Education|            90.82|\n",
       "|         34615| 20|   12|2018|            Test|            62.88|\n",
       "|         34621|  5|   12|2018|             Gas|            13.15|\n",
       "|         34624| 22|   12|2018|            Test|            56.39|\n",
       "|         34625| 23|   12|2018|         Grocery|            13.68|\n",
       "+--------------+---+-----+----+----------------+-----------------+"
      ]
     },
     "execution_count": 38,
     "metadata": {},
     "output_type": "execute_result"
    }
   ],
   "source": [
    "result_df.select(['TRANSACTION_ID', 'DAY', 'MONTH', 'YEAR', 'TRANSACTION_TYPE', 'TRANSACTION_VALUE'])"
   ]
  },
  {
   "cell_type": "code",
   "execution_count": 32,
   "metadata": {},
   "outputs": [
    {
     "data": {
      "text/plain": [
       "201251.07999999946"
      ]
     },
     "execution_count": 32,
     "metadata": {},
     "output_type": "execute_result"
    }
   ],
   "source": [
    "total_monthly_bill = result_df.agg({\"TRANSACTION_VALUE\": \"sum\"}).collect()[0][0]\n",
    "total_monthly_bill"
   ]
  },
  {
   "cell_type": "code",
   "execution_count": 40,
   "metadata": {},
   "outputs": [],
   "source": [
    "def sum(a, b):\n",
    "    return (a + b)"
   ]
  },
  {
   "cell_type": "code",
   "execution_count": 41,
   "metadata": {},
   "outputs": [
    {
     "data": {
      "text/plain": [
       "3"
      ]
     },
     "execution_count": 41,
     "metadata": {},
     "output_type": "execute_result"
    }
   ],
   "source": [
    "sum(1, 2)"
   ]
  },
  {
   "cell_type": "code",
   "execution_count": 42,
   "metadata": {},
   "outputs": [],
   "source": [
    "def log_function_call(func):\n",
    "    def wrapper(*args, **kwargs):\n",
    "        print(f\"Calling function: {func.__name__}\")\n",
    "        print(f\"Arguments: {args}\")\n",
    "        print(f\"Keyword arguments: {kwargs}\")\n",
    "        result = func(*args, **kwargs)\n",
    "        print(f\"Function {func.__name__} completed.\")\n",
    "        return result\n",
    "    return wrapper\n",
    "\n"
   ]
  },
  {
   "cell_type": "code",
   "execution_count": 45,
   "metadata": {},
   "outputs": [],
   "source": [
    "@log_function_call\n",
    "def add_numbers(a, b):\n",
    "    print('hi')\n",
    "    return a + b"
   ]
  },
  {
   "cell_type": "code",
   "execution_count": 47,
   "metadata": {},
   "outputs": [],
   "source": []
  },
  {
   "cell_type": "code",
   "execution_count": null,
   "metadata": {},
   "outputs": [],
   "source": []
  }
 ],
 "metadata": {
  "kernelspec": {
   "display_name": "Python 3",
   "language": "python",
   "name": "python3"
  },
  "language_info": {
   "codemirror_mode": {
    "name": "ipython",
    "version": 3
   },
   "file_extension": ".py",
   "mimetype": "text/x-python",
   "name": "python",
   "nbconvert_exporter": "python",
   "pygments_lexer": "ipython3",
   "version": "3.10.7"
  },
  "orig_nbformat": 4
 },
 "nbformat": 4,
 "nbformat_minor": 2
}
