{
 "cells": [
  {
   "cell_type": "code",
   "execution_count": 30,
   "metadata": {},
   "outputs": [],
   "source": [
    "# json_to_psql.ipynb: check datatype of TIMEID\n",
    "# implement approprate input validation while updating dataframe in 2.2 (2)\n",
    "# implement decorators? for get_zip_code(), get_month() and get_year()"
   ]
  },
  {
   "cell_type": "code",
   "execution_count": 80,
   "metadata": {},
   "outputs": [],
   "source": [
    "from pyspark.sql import SparkSession, DataFrame\n",
    "\n",
    "from pyspark.sql.functions import count, sum, col, when, to_date\n",
    "from sqlalchemy import create_engine, text\n",
    "\n",
    "from datetime import datetime\n",
    "from creds import read_cred_from_file"
   ]
  },
  {
   "cell_type": "code",
   "execution_count": 32,
   "metadata": {},
   "outputs": [],
   "source": [
    "spark = SparkSession.builder \\\n",
    "    .appName('Query MySQL database: creditcard_capstone') \\\n",
    "    .getOrCreate()\n",
    "\n",
    "spark.conf.set(\"spark.sql.repl.eagerEval.enabled\", True) # to see the entire contents of the DataFrame in the console output."
   ]
  },
  {
   "cell_type": "code",
   "execution_count": 33,
   "metadata": {},
   "outputs": [],
   "source": [
    "mysql_host = 'localhost'\n",
    "mysql_port = 3306\n",
    "mysql_database_name = 'creditcard_capstone'\n",
    "mysql_user, mysql_password = read_cred_from_file()"
   ]
  },
  {
   "cell_type": "code",
   "execution_count": 34,
   "metadata": {},
   "outputs": [],
   "source": [
    "# to read into spark DF from mysql\n",
    "mysql_driver = 'com.mysql.jdbc.Driver'\n",
    "mysql_url = f'jdbc:mysql://{mysql_host}:{mysql_port}/{mysql_database_name}'\n",
    "\n",
    "mysql_properties = {\n",
    "                'user': mysql_user,\n",
    "                'password': mysql_password\n",
    "}\n",
    "\n",
    "customer_df = spark.read.jdbc(url=mysql_url, table='cdw_sapp_customer', properties=mysql_properties)\n",
    "credit_df = spark.read.jdbc(url=mysql_url, table='cdw_sapp_credit_card', properties=mysql_properties)\n",
    "branch_df = spark.read.jdbc(url=mysql_url, table='cdw_sapp_branch', properties=mysql_properties)"
   ]
  },
  {
   "cell_type": "code",
   "execution_count": null,
   "metadata": {},
   "outputs": [],
   "source": [
    "# to establish a direct standing connection with mysql db\n",
    "# Create the MySQL connection URL\n",
    "mysql_url = f'mysql+mysqlconnector://{mysql_user}:{mysql_password}@{mysql_host}:{mysql_port}/{mysql_database_name}'\n",
    "\n",
    "# Create a SQLAlchemy engine\n",
    "engine = create_engine(mysql_url)"
   ]
  },
  {
   "attachments": {},
   "cell_type": "markdown",
   "metadata": {},
   "source": [
    "---"
   ]
  },
  {
   "attachments": {},
   "cell_type": "markdown",
   "metadata": {},
   "source": [
    "## 2.1 Transaction Details Module"
   ]
  },
  {
   "attachments": {},
   "cell_type": "markdown",
   "metadata": {},
   "source": [
    "1)    Used to display the transactions made by customers living in a given zip code for a given month and year. Order by day in descending order."
   ]
  },
  {
   "cell_type": "code",
   "execution_count": 36,
   "metadata": {},
   "outputs": [],
   "source": [
    "def get_zipcode() -> str:\n",
    "    \"\"\"\n",
    "    Prompts the user to enter a valid 5-digit zipcode.\n",
    "\n",
    "    Returns:\n",
    "        str: The valid 5-digit zipcode entered by the user.\n",
    "    \"\"\"\n",
    "    def validate_zipcode(zipcode: str) -> None:\n",
    "        \"\"\"\n",
    "        Validates the format of the given zipcode.\n",
    "\n",
    "        Args:\n",
    "            zipcode (str): The zipcode to validate.\n",
    "\n",
    "        Raises:\n",
    "            ValueError: If the zipcode is not a 5-digit numeric value.\n",
    "        \"\"\"\n",
    "        if len(zipcode) != 5 or not zipcode.isdigit():\n",
    "            raise ValueError(\"Invalid zipcode. Please enter a 5-digit numeric value.\")\n",
    "\n",
    "    while True:\n",
    "        try:\n",
    "            zipcode = input(\"Zipcode: \")\n",
    "            validate_zipcode(zipcode)\n",
    "            break\n",
    "        except ValueError as e:\n",
    "            print(str(e))\n",
    "\n",
    "    return zipcode\n"
   ]
  },
  {
   "cell_type": "code",
   "execution_count": 37,
   "metadata": {},
   "outputs": [],
   "source": [
    "def get_month() -> int:\n",
    "    \"\"\"\n",
    "    Prompts the user to enter a valid month.\n",
    "\n",
    "    Returns:\n",
    "        int: The valid month entered by the user (numeric value between 1 and 12).\n",
    "    \"\"\"\n",
    "    def validate_month(month: int) -> None:\n",
    "        \"\"\"\n",
    "        Validates the given month.\n",
    "\n",
    "        Args:\n",
    "            month (int): The month to validate.\n",
    "\n",
    "        Raises:\n",
    "            ValueError: If the month is not a numeric value between 1 and 12.\n",
    "        \"\"\"\n",
    "        if not 1 <= month <= 12:\n",
    "            raise ValueError(\"Invalid month. Please enter a numeric value between 1 and 12.\")\n",
    "\n",
    "    while True:\n",
    "        try:\n",
    "            month = int(input(\"Month: \"))\n",
    "            validate_month(month)\n",
    "            break\n",
    "        except ValueError as e:\n",
    "            print(str(e))\n",
    "\n",
    "    return month\n"
   ]
  },
  {
   "cell_type": "code",
   "execution_count": 38,
   "metadata": {},
   "outputs": [],
   "source": [
    "def get_year() -> int:\n",
    "    \"\"\"\n",
    "    Prompts the user to enter a valid year.\n",
    "\n",
    "    Returns:\n",
    "        int: The valid year entered by the user (4-digit numeric value).\n",
    "    \"\"\"\n",
    "    def validate_year(year: int) -> None:\n",
    "        \"\"\"\n",
    "        Validates the given year.\n",
    "\n",
    "        Args:\n",
    "            year (int): The year to validate.\n",
    "\n",
    "        Raises:\n",
    "            ValueError: If the year is not a 4-digit numeric value.\n",
    "        \"\"\"\n",
    "        if len(str(year)) != 4 or not str(year).isdigit():\n",
    "            raise ValueError(\"Invalid year. Please enter a 4-digit numeric value.\")\n",
    "\n",
    "    while True:\n",
    "        try:\n",
    "            year = int(input(\"Year: \"))\n",
    "            validate_year(year)\n",
    "            break\n",
    "        except ValueError as e:\n",
    "            print(str(e))\n",
    "\n",
    "    return year\n"
   ]
  },
  {
   "cell_type": "code",
   "execution_count": 39,
   "metadata": {},
   "outputs": [],
   "source": [
    "def transactions_by_zip_month_year() -> None:\n",
    "    \"\"\"\n",
    "    Displays transactions made by customers living in a given zip code for a given month and year,\n",
    "    ordered by day in ascending order.\n",
    "    \"\"\"\n",
    "    filters = (customer_df.CUST_ZIP == get_zipcode()) & \\\n",
    "              (credit_df.MONTH == get_month()) & \\\n",
    "              (credit_df.YEAR == get_year())\n",
    "\n",
    "    result_df = credit_df.join(customer_df, credit_df.CUST_SSN == customer_df.SSN, 'left') \\\n",
    "                         .where(filters) \\\n",
    "                         .orderBy(credit_df.DAY)\n",
    "\n",
    "    result_df.show()"
   ]
  },
  {
   "attachments": {},
   "cell_type": "markdown",
   "metadata": {},
   "source": [
    "---"
   ]
  },
  {
   "attachments": {},
   "cell_type": "markdown",
   "metadata": {},
   "source": [
    "2)    Used to display the number and total values of transactions for a given type."
   ]
  },
  {
   "cell_type": "code",
   "execution_count": 40,
   "metadata": {},
   "outputs": [],
   "source": [
    "def distinct_options(df: DataFrame, column_name: str) -> list[str]:\n",
    "    \"\"\"\n",
    "    Get the distinct options from a specific column in the DataFrame.\n",
    "\n",
    "    Args:\n",
    "        df (DataFrame): The DataFrame containing the data.\n",
    "        column_name (str): The name of the column to fetch distinct options from.\n",
    "\n",
    "    Returns:\n",
    "        list[str]: The list of distinct options from the specified column.\n",
    "\n",
    "    \"\"\"\n",
    "    distinct_options = df.select(column_name).distinct().rdd.flatMap(lambda x: x).collect()\n",
    "    return distinct_options\n"
   ]
  },
  {
   "cell_type": "code",
   "execution_count": 41,
   "metadata": {},
   "outputs": [],
   "source": [
    "def get_valid_input(df: DataFrame, column_name: str) -> str:\n",
    "    \"\"\"\n",
    "    Prompts the user to enter a valid input from the distinct options available in the specified column of a DataFrame.\n",
    "\n",
    "    Args:\n",
    "        df (DataFrame): The DataFrame containing the data.\n",
    "        column_name (str): The name of the column to get valid input from.\n",
    "\n",
    "    Returns:\n",
    "        str: The valid input entered by the user.\n",
    "\n",
    "    Raises:\n",
    "        ValueError: If the DataFrame or column name is not provided.\n",
    "    \"\"\"\n",
    "    valid_input_list = distinct_options(df=df, column_name=column_name)\n",
    "    valid_options = \", \".join(valid_input_list)\n",
    "\n",
    "    while True:\n",
    "        input_value = input(f\"{column_name} ({valid_options}): \")\n",
    "        if input_value in valid_input_list:\n",
    "            break\n",
    "        print(f\"Invalid {column_name}. Please enter a valid input from the given options: {valid_options}.\")\n",
    "\n",
    "    return input_value\n"
   ]
  },
  {
   "cell_type": "code",
   "execution_count": 42,
   "metadata": {},
   "outputs": [],
   "source": [
    "def transaction_total_and_no_by_type(credit_df) -> None:\n",
    "    \"\"\"\n",
    "    Query transaction data based on the user-provided transaction type.\n",
    "\n",
    "    Returns:\n",
    "        None\n",
    "\n",
    "    Raises:\n",
    "        ValueError: If the input transaction type is not valid.\n",
    "\n",
    "    \"\"\"\n",
    "\n",
    "    transaction_type = get_valid_input(credit_df, column_name= 'TRANSACTION_TYPE') \n",
    "\n",
    "    result_df = credit_df.filter(credit_df.TRANSACTION_TYPE == transaction_type) \\\n",
    "                             .select(count('TRANSACTION_ID').alias('Total no of transactions'), \\\n",
    "                                     sum('TRANSACTION_VALUE').alias('Sum of Transaction Values'))\n",
    "\n",
    "    result_df.show()"
   ]
  },
  {
   "attachments": {},
   "cell_type": "markdown",
   "metadata": {},
   "source": [
    "---"
   ]
  },
  {
   "attachments": {},
   "cell_type": "markdown",
   "metadata": {},
   "source": [
    "3)    Used to display the total number and total values of transactions for branches in a given state."
   ]
  },
  {
   "cell_type": "code",
   "execution_count": 43,
   "metadata": {},
   "outputs": [],
   "source": [
    "def transaction_total_and_no_by_branch_on_state (branch_df, credit_df)-> None:\n",
    "    \"\"\"\n",
    "    Process transaction data by querying based on user input of state.\n",
    "\n",
    "    Args:\n",
    "        credit_df (DataFrame): The DataFrame containing the credit data.\n",
    "        customer_df (DataFrame): The DataFrame containing the customer data.\n",
    "\n",
    "    \"\"\"\n",
    "\n",
    "    state = get_valid_input(branch_df, column_name='BRANCH_STATE')\n",
    "\n",
    "    result_df = credit_df.join(branch_df, credit_df.BRANCH_CODE == branch_df.BRANCH_CODE, 'left') \\\n",
    "                         .where(branch_df.BRANCH_STATE == 'MN') \\\n",
    "                         .groupBy(branch_df.BRANCH_CODE) \\\n",
    "                         .agg(count(credit_df.TRANSACTION_ID).alias('Transaction_Count'), \\\n",
    "                              sum(credit_df.TRANSACTION_VALUE).alias('Transaction_Sum'))\n",
    "\n",
    "    result_df.show()"
   ]
  },
  {
   "attachments": {},
   "cell_type": "markdown",
   "metadata": {},
   "source": [
    "---"
   ]
  },
  {
   "attachments": {},
   "cell_type": "markdown",
   "metadata": {},
   "source": [
    "## 2.2 Customer Details Module"
   ]
  },
  {
   "attachments": {},
   "cell_type": "markdown",
   "metadata": {},
   "source": [
    "1) Used to check the existing account details of a customer.\n"
   ]
  },
  {
   "cell_type": "code",
   "execution_count": 44,
   "metadata": {},
   "outputs": [],
   "source": [
    "def choose_one_from(available_options: list, msg: str = \"Available Options\") -> str:\n",
    "    \"\"\"\n",
    "    Prompts the user to choose one option from the given list of available options.\n",
    "\n",
    "    Args:\n",
    "        available_options (list): The list of available options to choose from.\n",
    "        msg (str, optional): The message to display when prompting the user for input. Defaults to \"Available Options\".\n",
    "\n",
    "    Returns:\n",
    "        str: The selected option entered by the user.\n",
    "\n",
    "    Raises:\n",
    "        ValueError: If the available_options list is empty.\n",
    "    \"\"\"\n",
    "    if not available_options:\n",
    "        raise ValueError(\"No options provided.\")\n",
    "\n",
    "    while True:\n",
    "        selected_option = input(f\"{msg} ({', '.join(available_options)}): \")\n",
    "        if selected_option in available_options:\n",
    "            break\n",
    "        print(f\"Invalid option. Please enter a valid option from the given list: {', '.join(available_options)}\")\n",
    "\n",
    "    return selected_option\n"
   ]
  },
  {
   "cell_type": "code",
   "execution_count": 45,
   "metadata": {},
   "outputs": [],
   "source": [
    "def show_account_details(customer_df) -> None:\n",
    "    \"\"\"\n",
    "    Retrieves and displays account details based on user input.\n",
    "\n",
    "    Returns:\n",
    "        None\n",
    "    \"\"\"\n",
    "    valid_column_names = customer_df.columns\n",
    "\n",
    "    filter_column = choose_one_from(valid_column_names)\n",
    "    filter_value = get_valid_input(df=customer_df, column_name=filter_column)\n",
    "\n",
    "    result_df = customer_df.filter(customer_df[filter_column] == filter_value)\n",
    "    result_df.show()\n"
   ]
  },
  {
   "attachments": {},
   "cell_type": "markdown",
   "metadata": {},
   "source": [
    "2) Used to modify the existing account details of a customer."
   ]
  },
  {
   "cell_type": "code",
   "execution_count": 55,
   "metadata": {},
   "outputs": [],
   "source": [
    "def create_sql_connection():\n",
    "    # MySQL connection properties\n",
    "    mysql_database_name = 'creditcard_capstone'\n",
    "    mysql_user = 'root'\n",
    "    mysql_password = 'password'\n",
    "    mysql_host = 'localhost'\n",
    "    mysql_port = 3306\n",
    "\n",
    "    # Create the MySQL connection URL\n",
    "    mysql_url = f'mysql+mysqlconnector://{mysql_user}:{mysql_password}@{mysql_host}:{mysql_port}/{mysql_database_name}'\n",
    "\n",
    "    # Create a SQLAlchemy engine\n",
    "    return create_engine(mysql_url)\n",
    "\n",
    "def update_dataframe(customer_df) -> None:\n",
    "    \"\"\"\n",
    "    Update values in a PySpark DataFrame based on a filter condition.\n",
    "\n",
    "    Returns:\n",
    "        None.\n",
    "\n",
    "    \"\"\"\n",
    "    valid_column_names = customer_df.columns\n",
    "\n",
    "    filter_column = choose_one_from(valid_column_names, msg = 'Select Column to filter with')\n",
    "    filter_value = get_valid_input(df = customer_df, column_name = filter_column)\n",
    "\n",
    "    column_to_update = choose_one_from(valid_column_names, msg = 'Column to update')\n",
    "    new_value = input(\"Enter new value:\") # can implement appropriate input validation here\n",
    "    \n",
    "    # update spark dataframe\n",
    "    customer_df = customer_df.withColumn(\n",
    "                                        column_to_update, \n",
    "                                        when(col(filter_column) == filter_value, new_value).otherwise(col(column_to_update)))\n",
    "    \n",
    "    # update SQL table\n",
    "    # SQL update statement\n",
    "    sql_update = text(f\"UPDATE CDW_SAPP_CUSTOMER SET {column_to_update} = '{new_value}' WHERE {filter_column} = '{filter_value}'\")\n",
    "\n",
    "\n",
    "    engine = create_sql_connection()\n",
    "    # Execute the update statement\n",
    "    with engine.begin() as connection:\n",
    "        connection.execute(sql_update)"
   ]
  },
  {
   "attachments": {},
   "cell_type": "markdown",
   "metadata": {},
   "source": [
    "3) Used to generate a monthly bill for a credit card number for a given month and year."
   ]
  },
  {
   "cell_type": "code",
   "execution_count": null,
   "metadata": {},
   "outputs": [],
   "source": [
    "def get_valid_16_digit_input() -> str:\n",
    "    \"\"\"\n",
    "    Prompts the user to enter a valid 16-digit number.\n",
    "\n",
    "    Returns:\n",
    "        str: The valid 16-digit number entered by the user.\n",
    "    \"\"\"\n",
    "    while True:\n",
    "        input_value = input(\"Enter a 16-digit number: \")\n",
    "        if input_value.isdigit() and len(input_value) == 16:\n",
    "            break\n",
    "        print(\"Invalid input. Please enter a 16-digit number.\")\n",
    "\n",
    "    return input_value\n"
   ]
  },
  {
   "cell_type": "code",
   "execution_count": null,
   "metadata": {},
   "outputs": [],
   "source": [
    "def generate_monthly_bill(credit_df) -> DataFrame:\n",
    "    \"\"\"\n",
    "    Generates a monthly bill based on user input.\n",
    "\n",
    "    Returns:\n",
    "        DataFrame: The resulting DataFrame containing the selected columns for the specified credit card number, month, and year.\n",
    "    \"\"\"\n",
    "    print(\"Please enter the credit card number.\")\n",
    "    input_cc_no = get_valid_16_digit_input()\n",
    "    input_year = get_year()\n",
    "    input_month = get_month()\n",
    "\n",
    "    result_df = credit_df.filter((credit_df['CREDIT_CARD_NO'] == input_cc_no) &\n",
    "                                (credit_df['MONTH'] == input_month) &\n",
    "                                (credit_df['YEAR'] == input_year))\n",
    "\n",
    "    return result_df.select(['TRANSACTION_ID', 'DAY', 'MONTH', 'YEAR', 'TRANSACTION_TYPE', 'TRANSACTION_VALUE'])\n"
   ]
  },
  {
   "cell_type": "code",
   "execution_count": 61,
   "metadata": {},
   "outputs": [],
   "source": [
    "def print_transaction_summary(df: DataFrame) -> None:\n",
    "    \"\"\"\n",
    "    Prints a summary of the transactions in the provided DataFrame.\n",
    "\n",
    "    Args:\n",
    "        df (DataFrame): The DataFrame containing the transactions.\n",
    "\n",
    "    Returns:\n",
    "        None\n",
    "    \"\"\"\n",
    "    total_and_count = df.agg({'TRANSACTION_VALUE': 'SUM', 'TRANSACTION_ID': 'COUNT'}).first()\n",
    "    total = total_and_count['sum(TRANSACTION_VALUE)']\n",
    "    count = total_and_count['count(TRANSACTION_ID)']\n",
    "\n",
    "    print(f'Summary: There were {count} transactions totaling $ {total}')"
   ]
  },
  {
   "cell_type": "code",
   "execution_count": 62,
   "metadata": {},
   "outputs": [],
   "source": [
    "def display_monthly_bill(credit_df) -> None:\n",
    "    \"\"\"\n",
    "    Displays the monthly bill and transaction summary.\n",
    "\n",
    "    Returns:\n",
    "        None\n",
    "    \"\"\"\n",
    "    result_df = generate_monthly_bill(credit_df)\n",
    "    result_df.show()\n",
    "    print_transaction_summary(result_df)"
   ]
  },
  {
   "cell_type": "code",
   "execution_count": 63,
   "metadata": {},
   "outputs": [
    {
     "name": "stdout",
     "output_type": "stream",
     "text": [
      "Invalid input. Please enter a 16-digit number.\n",
      "+--------------+---+-----+----+----------------+-----------------+\n",
      "|TRANSACTION_ID|DAY|MONTH|YEAR|TRANSACTION_TYPE|TRANSACTION_VALUE|\n",
      "+--------------+---+-----+----+----------------+-----------------+\n",
      "|         34629|  7|   11|2018|             Gas|            67.91|\n",
      "|         34590| 27|   11|2018|   Entertainment|            59.37|\n",
      "|         34594| 23|   11|2018|           Bills|            82.48|\n",
      "|         34600| 22|   11|2018|         Grocery|            50.99|\n",
      "|         34602|  1|   11|2018|       Education|            36.12|\n",
      "|         34604|  5|   11|2018|       Education|            75.49|\n",
      "|         34608|  6|   11|2018|      Healthcare|            56.76|\n",
      "|         34623|  8|   11|2018|            Test|            87.53|\n",
      "+--------------+---+-----+----+----------------+-----------------+\n",
      "\n",
      "Summary: There were 8 transactions totaling $ 516.65\n"
     ]
    }
   ],
   "source": [
    "display_monthly_bill()"
   ]
  },
  {
   "attachments": {},
   "cell_type": "markdown",
   "metadata": {},
   "source": [
    "4) Used to display the transactions made by a customer between two dates. Order by year, month, and day in descending order."
   ]
  },
  {
   "cell_type": "code",
   "execution_count": 86,
   "metadata": {},
   "outputs": [],
   "source": [
    "def get_date_input():\n",
    "    while True:\n",
    "        date_str = input(\"Enter a date (YYYY-MM-DD): \")\n",
    "        try:\n",
    "            datetime.strptime(date_str, '%Y-%m-%d')\n",
    "            return date_str\n",
    "        except ValueError:\n",
    "            print(\"Invalid date format. Please enter a date in the format YYYY-MM-DD.\")\n"
   ]
  },
  {
   "cell_type": "code",
   "execution_count": 81,
   "metadata": {},
   "outputs": [],
   "source": [
    "def transaction_between_dates() -> None:\n",
    "    \"\"\"\n",
    "    Displays transactions between two specified dates and prints a transaction summary.\n",
    "\n",
    "    Returns:\n",
    "        None\n",
    "    \"\"\"\n",
    "    \n",
    "    print('Start Date')\n",
    "    start_date = get_date_input()\n",
    "\n",
    "    print('End Date')\n",
    "    end_date = get_date_input()\n",
    "\n",
    "    print(\"Please enter the credit card number.\")\n",
    "    result_df = credit_df.filter((to_date(col('TIMEID'), 'yyyyMMdd') >= start_date) &\n",
    "                                (to_date(col('TIMEID'), 'yyyyMMdd') <= end_date) &\n",
    "                                (col('CREDIT_CARD_NO') == get_valid_16_digit_input()))\n",
    "\n",
    "    result_df.show()\n",
    "    print_transaction_summary(result_df)\n"
   ]
  },
  {
   "attachments": {},
   "cell_type": "markdown",
   "metadata": {},
   "source": [
    "---"
   ]
  },
  {
   "attachments": {},
   "cell_type": "markdown",
   "metadata": {},
   "source": [
    "Debugging"
   ]
  },
  {
   "cell_type": "code",
   "execution_count": 87,
   "metadata": {},
   "outputs": [],
   "source": []
  },
  {
   "cell_type": "code",
   "execution_count": 82,
   "metadata": {},
   "outputs": [
    {
     "name": "stdout",
     "output_type": "stream",
     "text": [
      "Enter Start Date\n",
      "Enter End Date\n",
      "+-----------+--------------+--------+---+-----+--------------+----------------+-----------------+----+------+\n",
      "|BRANCH_CODE|CREDIT_CARD_NO|CUST_SSN|DAY|MONTH|TRANSACTION_ID|TRANSACTION_TYPE|TRANSACTION_VALUE|YEAR|TIMEID|\n",
      "+-----------+--------------+--------+---+-----+--------------+----------------+-----------------+----+------+\n",
      "+-----------+--------------+--------+---+-----+--------------+----------------+-----------------+----+------+\n",
      "\n",
      "Summary: There were 0 transactions totaling $ None\n"
     ]
    }
   ],
   "source": [
    "transaction_between_dates()"
   ]
  },
  {
   "cell_type": "code",
   "execution_count": null,
   "metadata": {},
   "outputs": [],
   "source": [
    "spark.stop()"
   ]
  },
  {
   "attachments": {},
   "cell_type": "markdown",
   "metadata": {},
   "source": [
    "---"
   ]
  }
 ],
 "metadata": {
  "kernelspec": {
   "display_name": "Python 3",
   "language": "python",
   "name": "python3"
  },
  "language_info": {
   "codemirror_mode": {
    "name": "ipython",
    "version": 3
   },
   "file_extension": ".py",
   "mimetype": "text/x-python",
   "name": "python",
   "nbconvert_exporter": "python",
   "pygments_lexer": "ipython3",
   "version": "3.10.7"
  },
  "orig_nbformat": 4
 },
 "nbformat": 4,
 "nbformat_minor": 2
}
