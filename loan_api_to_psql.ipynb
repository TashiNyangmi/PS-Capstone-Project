{
 "cells": [
  {
   "cell_type": "code",
   "execution_count": 2,
   "metadata": {},
   "outputs": [
    {
     "name": "stdout",
     "output_type": "stream",
     "text": [
      "+------+----------------+------------+-------------+--------------------+-----------+----------+--------+----------+---------+--------------------+-----------+---------+-----------------+--------------------+\n",
      "|APT_NO|  CREDIT_CARD_NO|   CUST_CITY| CUST_COUNTRY|          CUST_EMAIL| CUST_PHONE|CUST_STATE|CUST_ZIP|FIRST_NAME|LAST_NAME|        LAST_UPDATED|MIDDLE_NAME|      SSN|      STREET_NAME| FULL_STREET_ADDRESS|\n",
      "+------+----------------+------------+-------------+--------------------+-----------+----------+--------+----------+---------+--------------------+-----------+---------+-----------------+--------------------+\n",
      "|   656|4210653310061055|     Natchez|United States| AHooper@example.com|(123)-781-8|        MS|   39120|      Alec|   Hooper|2018-04-21T12:49:...|         wm|123456100|Main Street North|Main Street North...|\n",
      "|   829|4210653310102868|Wethersfield|United States| EHolman@example.com|(123)-893-3|        CT|   06109|      Etta|   Holman|2018-04-21T12:49:...|    brendan|123453023|    Redwood Drive|   Redwood Drive,829|\n",
      "|   683|4210653310116272|     Huntley|United States| WDunham@example.com|(124)-301-8|        IL|   60142|    Wilber|   Dunham|2018-04-21T12:49:...|   ezequiel|123454487| 12th Street East|12th Street East,683|\n",
      "|   253|4210653310195948|   NewBerlin|United States|  EHardy@example.com|(124)-321-5|        WI|   53151|   Eugenio|    Hardy|2018-04-21T12:49:...|      trina|123459758|Country Club Road|Country Club Road...|\n",
      "|   301|4210653310356919|      ElPaso|United States|  WAyers@example.com|(124)-207-4|        TX|   79930|   Wilfred|    Ayers|2018-04-21T12:49:...|        may|123454431|   Madison Street|  Madison Street,301|\n",
      "|     3|4210653310395982|NorthOlmsted|United States|BWoodard@example.com|(124)-257-0|        OH|   44070|      Beau|  Woodard|2018-04-21T12:49:...|    ambrose|123454202|   Colonial Drive|    Colonial Drive,3|\n",
      "|    84|4210653310400536|      Vienna|United States|   SKemp@example.com|(123)-968-5|        VA|   22180|    Sheila|     Kemp|2018-04-21T12:49:...|      larry|123451799|   Belmont Avenue|   Belmont Avenue,84|\n",
      "|   728|4210653310459911|      Duarte|United States| WHurley@example.com|(123)-821-3|        CA|   91010|     Wendy|   Hurley|2018-04-21T12:49:...|        ora|123453875|     Oxford Court|    Oxford Court,728|\n",
      "|    81|4210653310773972|      Owosso|United States|AGilmore@example.com|(124)-068-9|        MI|   48867|      Alec|  Gilmore|2018-04-21T12:49:...|     tracie|123457511|    Forest Street|    Forest Street,81|\n",
      "|   561|4210653310794854|        Zion|United States|    BLau@example.com|(123)-522-2|        IL|   60099|    Barbra|      Lau|2018-04-21T12:49:...|    mitchel|123457464|     Court Street|    Court Street,561|\n",
      "|   622|4210653310817373|  Youngstown|United States|EThomson@example.com|(124)-136-3|        OH|   44512|   Edmundo|  Thomson|2018-04-21T12:49:...|      denny|123457639|    Cypress Court|   Cypress Court,622|\n",
      "|   924|4210653310844617| Summerville|United States| ETruong@example.com|(123)-622-8|        SC|   29483|      Elsa|   Truong|2018-04-21T12:49:...|   isabelle|123453242|  8th Street West| 8th Street West,924|\n",
      "|   611|4210653311015303|      ElPaso|United States|HMckinney@example...|(123)-816-5|        TX|   79930|     Homer| Mckinney|2018-04-21T12:49:...|      henry|123454339|      East Avenue|     East Avenue,611|\n",
      "|   680|4210653311215039|      Fenton|United States|   RKidd@example.com|(123)-473-0|        MI|   48430|      Rita|     Kidd|2018-04-21T12:49:...|     rickey|123454537|         Route 44|        Route 44,680|\n",
      "|    71|4210653311229354|  Grandville|United States|ABallard@example.com|(124)-211-3|        MI|   49418|    Amalia|  Ballard|2018-04-21T12:49:...|  heriberto|123452373|    Warren Street|    Warren Street,71|\n",
      "|   195|4210653311652836|    YubaCity|United States| PThomas@example.com|(123)-988-8|        CA|   95993|     Patty|   Thomas|2018-04-21T12:49:...|   angelita|123455343|     Jones Street|    Jones Street,195|\n",
      "|   500|4210653311707126|   CapeCoral|United States| JMorrow@example.com|(124)-015-8|        FL|   33904|  Josefina|   Morrow|2018-04-21T12:49:...|   dorothea|123451533|       New Street|      New Street,500|\n",
      "|   989|4210653311730764|  Brookfield|United States|NAndrews@example.com|(124)-140-8|        WI|   53045|    Nelson|  Andrews|2018-04-21T12:49:...|  jefferson|123459278|  Division Street| Division Street,989|\n",
      "|   810|4210653311898082|    Richmond|United States|MSchneider@exampl...|(123)-839-0|        VA|   23223|    Miquel|Schneider|2018-04-21T12:49:...|     maximo|123456915|     Maple Street|    Maple Street,810|\n",
      "|   649|4210653312021765| WestChester|United States|PTidwell@example.com|(123)-506-7|        PA|   19380|    Parker|  Tidwell|2018-04-21T12:49:...|    arnulfo|123453807|       Eagle Road|      Eagle Road,649|\n",
      "+------+----------------+------------+-------------+--------------------+-----------+----------+--------+----------+---------+--------------------+-----------+---------+-----------------+--------------------+\n",
      "only showing top 20 rows\n",
      "\n"
     ]
    }
   ],
   "source": [
    "import requests\n",
    "from json_to_psql import spark_to_sql\n",
    "from pyspark.sql import SparkSession\n",
    "from creds import read_cred_from_file"
   ]
  },
  {
   "cell_type": "code",
   "execution_count": 3,
   "metadata": {},
   "outputs": [
    {
     "name": "stdout",
     "output_type": "stream",
     "text": [
      "Loan data retrieved successfully!\n",
      "Number of loan applications: 511\n"
     ]
    }
   ],
   "source": [
    "# Send GET request to the URL\n",
    "url = \"https://raw.githubusercontent.com/platformps/LoanDataset/main/loan_data.json\"\n",
    "response = requests.get(url)\n",
    "\n",
    "# Check if the request was successful (status code 200)\n",
    "if response.status_code == 200:\n",
    "    loan_data = response.json()  \n",
    "  \n",
    "    print(\"Loan data retrieved successfully!\")\n",
    "    print(\"Number of loan applications:\", len(loan_data))\n",
    "else:\n",
    "    print(\"Failed to retrieve loan data. Status code:\", response.status_code)"
   ]
  },
  {
   "cell_type": "code",
   "execution_count": 4,
   "metadata": {},
   "outputs": [],
   "source": [
    "spark = SparkSession.builder \\\n",
    "    .appName(\"APItoMySQL\") \\\n",
    "    .getOrCreate()"
   ]
  },
  {
   "cell_type": "code",
   "execution_count": 5,
   "metadata": {},
   "outputs": [],
   "source": [
    "loan_df = spark.createDataFrame(loan_data)\n",
    "\n",
    "db_name = 'creditcard_capstone'\n",
    "table_name = 'CDW_SAPP_loan_application'\n",
    "url = f'jdbc:mysql://localhost:3306/{db_name}'\n",
    "\n",
    "username, password = read_cred_from_file()\n",
    "properties = {\n",
    "    'user': username,\n",
    "    'password': password,\n",
    "    'driver': 'com.mysql.jdbc.Driver'\n",
    "}\n"
   ]
  },
  {
   "cell_type": "code",
   "execution_count": 6,
   "metadata": {},
   "outputs": [],
   "source": [
    "spark.sql(f\"CREATE DATABASE IF NOT EXISTS {db_name}\")\n",
    "spark.sql(f\"USE {db_name}\")\n",
    "\n",
    "spark_to_sql(loan_df, table_name='cdw', url = url, properties= properties )\n",
    "spark.stop()"
   ]
  },
  {
   "attachments": {},
   "cell_type": "markdown",
   "metadata": {},
   "source": [
    "---"
   ]
  },
  {
   "attachments": {},
   "cell_type": "markdown",
   "metadata": {},
   "source": [
    "# END"
   ]
  }
 ],
 "metadata": {
  "kernelspec": {
   "display_name": "Python 3",
   "language": "python",
   "name": "python3"
  },
  "language_info": {
   "codemirror_mode": {
    "name": "ipython",
    "version": 3
   },
   "file_extension": ".py",
   "mimetype": "text/x-python",
   "name": "python",
   "nbconvert_exporter": "python",
   "pygments_lexer": "ipython3",
   "version": "3.10.7"
  },
  "orig_nbformat": 4
 },
 "nbformat": 4,
 "nbformat_minor": 2
}
