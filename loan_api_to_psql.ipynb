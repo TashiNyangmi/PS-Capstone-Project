{
 "cells": [
  {
   "cell_type": "code",
   "execution_count": 1,
   "metadata": {},
   "outputs": [],
   "source": [
    "import requests\n",
    "from json_to_psql import spark_to_sql\n",
    "from pyspark.sql import SparkSession\n",
    "import mysql"
   ]
  },
  {
   "cell_type": "code",
   "execution_count": 2,
   "metadata": {},
   "outputs": [
    {
     "name": "stdout",
     "output_type": "stream",
     "text": [
      "Loan data retrieved successfully!\n",
      "Number of loan applications: 511\n"
     ]
    }
   ],
   "source": [
    "# Send GET request to the URL\n",
    "url = \"https://raw.githubusercontent.com/platformps/LoanDataset/main/loan_data.json\"\n",
    "response = requests.get(url)\n",
    "\n",
    "# Check if the request was successful (status code 200)\n",
    "if response.status_code == 200:\n",
    "    loan_data = response.json()  \n",
    "  \n",
    "    print(\"Loan data retrieved successfully!\")\n",
    "    print(\"Number of loan applications:\", len(loan_data))\n",
    "else:\n",
    "    print(\"Failed to retrieve loan data. Status code:\", response.status_code)"
   ]
  },
  {
   "cell_type": "code",
   "execution_count": 6,
   "metadata": {},
   "outputs": [],
   "source": [
    "spark = SparkSession.builder \\\n",
    "    .appName(\"APItoMySQL\") \\\n",
    "    .getOrCreate()"
   ]
  },
  {
   "cell_type": "code",
   "execution_count": 7,
   "metadata": {},
   "outputs": [],
   "source": [
    "loan_df = spark.createDataFrame(loan_data)\n",
    "\n",
    "db_name = 'creditcard_capstone'\n",
    "table_name = 'CDW_SAPP_loan_application'\n",
    "url = f'jdbc:mysql://localhost:3306/{db_name}'\n",
    "\n",
    "properties = {\n",
    "    'user': 'root',\n",
    "    'password': 'password',\n",
    "    'driver': 'com.mysql.jdbc.Driver'\n",
    "}\n"
   ]
  },
  {
   "cell_type": "code",
   "execution_count": 8,
   "metadata": {},
   "outputs": [],
   "source": [
    "spark.sql(f\"CREATE DATABASE IF NOT EXISTS {db_name}\")\n",
    "spark.sql(f\"USE {db_name}\")\n",
    "\n",
    "spark_to_sql(loan_df, table_name='cdw', url = url, properties= properties )\n",
    "spark.stop()"
   ]
  }
 ],
 "metadata": {
  "kernelspec": {
   "display_name": "Python 3",
   "language": "python",
   "name": "python3"
  },
  "language_info": {
   "codemirror_mode": {
    "name": "ipython",
    "version": 3
   },
   "file_extension": ".py",
   "mimetype": "text/x-python",
   "name": "python",
   "nbconvert_exporter": "python",
   "pygments_lexer": "ipython3",
   "version": "3.10.7"
  },
  "orig_nbformat": 4
 },
 "nbformat": 4,
 "nbformat_minor": 2
}
