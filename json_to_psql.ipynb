{
 "cells": [
  {
   "cell_type": "code",
   "execution_count": 1,
   "metadata": {},
   "outputs": [],
   "source": [
    "from pyspark.sql import SparkSession\n",
    "from pyspark.sql import Column, DataFrame\n",
    "from pyspark.sql.types import StringType\n",
    "from pyspark.sql import Row\n",
    "\n",
    "from pyspark.sql.functions import col, \\\n",
    "                                  lower, initcap, \\\n",
    "                                  concat, concat_ws, lit, substring, format_string\n",
    "\n",
    "from typing import List, Optional, Union\n",
    "\n",
    "import mysql.connector\n"
   ]
  },
  {
   "cell_type": "code",
   "execution_count": 2,
   "metadata": {},
   "outputs": [],
   "source": [
    "spark = SparkSession.builder.master('local[2]').appName('format_json').getOrCreate()"
   ]
  },
  {
   "attachments": {},
   "cell_type": "markdown",
   "metadata": {},
   "source": [
    "---"
   ]
  },
  {
   "attachments": {},
   "cell_type": "markdown",
   "metadata": {},
   "source": [
    "UDF"
   ]
  },
  {
   "cell_type": "code",
   "execution_count": 3,
   "metadata": {},
   "outputs": [],
   "source": [
    "def apply_format_phone_no(column: Union[str, Column]) -> Column:\n",
    "    \"\"\"\n",
    "    Applies phone number formatting to the given Spark Column.\n",
    "\n",
    "    Args:\n",
    "        column (Union[str, Column]): The Spark Column or column name representing the phone number.\n",
    "\n",
    "    Returns:\n",
    "        Column: A new Spark Column with the phone number formatted as '(XXX)-XXX-XXXX'.\n",
    "\n",
    "    Raises:\n",
    "        ValueError: If the provided column is not of type str or Column.\n",
    "\n",
    "    Example:\n",
    "        df = df.withColumn('formatted_phone', apply_format_phone_no(df['phone']))\n",
    "\n",
    "    \"\"\"\n",
    "\n",
    "    # Parameter Validation\n",
    "    if isinstance(column, str):\n",
    "        column = col(column)\n",
    "    elif not isinstance(column, Column):\n",
    "        raise ValueError(\"The column parameter should be of type str or Column.\")\n",
    "\n",
    "    return (concat(lit('('),\n",
    "                   substring(column, 1, 3),\n",
    "                   lit(')-'),\n",
    "                   substring(column, 4, 3),\n",
    "                   lit('-'),\n",
    "                   substring(column, 7, 4)\n",
    "                   )\n",
    "            )\n"
   ]
  },
  {
   "cell_type": "code",
   "execution_count": 4,
   "metadata": {},
   "outputs": [],
   "source": [
    "def spark_to_sql(df: DataFrame, url: str, table_name: str = 'table1',  properties: Optional[dict] = None) -> None:\n",
    "    \"\"\"\n",
    "    Writes the given Spark DataFrame to a SQL database table using JDBC.\n",
    "\n",
    "    Args:\n",
    "        df (DataFrame): The Spark DataFrame to be written to the SQL database.\n",
    "        table_name (str, optional): The name of the table in the SQL database. Default is 'table1'.\n",
    "        url (str, optional): The JDBC URL of the SQL database.\n",
    "        properties (dict, optional): Additional properties for the JDBC connection. Default is None.\n",
    "\n",
    "    Raises:\n",
    "        ValueError: If the input DataFrame or JDBC URL is not provided.\n",
    "\n",
    "    Example:\n",
    "        spark_to_sql(df, table_name='my_table', url='jdbc:mysql://localhost:3306/my_database', properties={'user': 'my_user', 'password': 'my_password'})\n",
    "\n",
    "    \"\"\"\n",
    "    if not df:\n",
    "        raise ValueError(\"Input DataFrame 'df' is required.\")\n",
    "    \n",
    "    if not url:\n",
    "        raise ValueError(\"JDBC URL 'url' is required.\")\n",
    "    \n",
    "    if properties is None:\n",
    "        properties = {}\n",
    "\n",
    "    try:\n",
    "        df.write.jdbc(url=url, table=table_name, mode='overwrite', properties=properties)\n",
    "    except Exception as e:\n",
    "        raise Exception(f\"Error occurred while writing data to the database: {str(e)}\")\n"
   ]
  },
  {
   "attachments": {},
   "cell_type": "markdown",
   "metadata": {},
   "source": [
    "---"
   ]
  },
  {
   "attachments": {},
   "cell_type": "markdown",
   "metadata": {},
   "source": [
    "1. Dataset: Custmer"
   ]
  },
  {
   "cell_type": "code",
   "execution_count": 5,
   "metadata": {},
   "outputs": [],
   "source": [
    "customer_json = 'data/raw_data/cdw_sapp_custmer.json'\n",
    "\n",
    "customer_df = spark.read\\\n",
    "            .option(\"multiline\", False)\\\n",
    "            .json(customer_json)"
   ]
  },
  {
   "cell_type": "code",
   "execution_count": 6,
   "metadata": {},
   "outputs": [],
   "source": [
    "customer_df = (customer_df\n",
    "    .withColumn('FIRST_NAME', initcap('FIRST_NAME'))\n",
    "    .withColumn('MIDDLE_NAME', lower('MIDDLE_NAME'))\n",
    "    .withColumn('LAST_NAME', initcap('LAST_NAME'))\n",
    "    .withColumn('FULL_STREET_ADDRESS', concat_ws(',', 'STREET_NAME', 'APT_NO'))\n",
    "    .withColumn('CUST_PHONE', apply_format_phone_no('CUST_PHONE'))\n",
    ")"
   ]
  },
  {
   "attachments": {},
   "cell_type": "markdown",
   "metadata": {},
   "source": [
    "---"
   ]
  },
  {
   "attachments": {},
   "cell_type": "markdown",
   "metadata": {},
   "source": [
    "2. Dataset: Branch"
   ]
  },
  {
   "cell_type": "code",
   "execution_count": 7,
   "metadata": {},
   "outputs": [],
   "source": [
    "branch_json = 'data/raw_data/cdw_sapp_branch.json'\n",
    "\n",
    "branch_df = spark.read\\\n",
    "            .option(\"multiline\", False)\\\n",
    "            .json(branch_json)"
   ]
  },
  {
   "cell_type": "code",
   "execution_count": 8,
   "metadata": {},
   "outputs": [],
   "source": [
    "branch_df = branch_df.fillna(99999, subset = 'BRANCH_ZIP')\n",
    "branch_df = branch_df.withColumn('BRANCH_PHONE', apply_format_phone_no('BRANCH_PHONE'))"
   ]
  },
  {
   "attachments": {},
   "cell_type": "markdown",
   "metadata": {},
   "source": [
    "---"
   ]
  },
  {
   "attachments": {},
   "cell_type": "markdown",
   "metadata": {},
   "source": [
    "3. Dataset: Credit"
   ]
  },
  {
   "cell_type": "code",
   "execution_count": 9,
   "metadata": {},
   "outputs": [],
   "source": [
    "credit_json = 'data/raw_data/cdw_sapp_credit.json'\n",
    "credit_df = spark.read\\\n",
    "            .option('multiline', False)\\\n",
    "            .json(credit_json)"
   ]
  },
  {
   "cell_type": "code",
   "execution_count": 10,
   "metadata": {},
   "outputs": [],
   "source": [
    "credit_df = credit_df.withColumn('TIMEID', concat_ws('', \n",
    "                                                     'YEAR', \n",
    "                                                     format_string('%02d', 'MONTH'), \n",
    "                                                     format_string('%02d','DAY')))"
   ]
  },
  {
   "attachments": {},
   "cell_type": "markdown",
   "metadata": {},
   "source": [
    "---"
   ]
  },
  {
   "attachments": {},
   "cell_type": "markdown",
   "metadata": {},
   "source": [
    "### SQL"
   ]
  },
  {
   "cell_type": "code",
   "execution_count": 11,
   "metadata": {},
   "outputs": [],
   "source": [
    "# Connect to the MySQL server\n",
    "conn = mysql.connector.connect(\n",
    "    host='localhost',\n",
    "    port='3306',\n",
    "    user='root',\n",
    "    password='password'\n",
    ")"
   ]
  },
  {
   "cell_type": "code",
   "execution_count": 12,
   "metadata": {},
   "outputs": [],
   "source": [
    "db_name = 'creditcard_capstone'\n",
    "cursor = conn.cursor()\n",
    "cursor.execute(f'CREATE DATABASE IF NOT EXISTS {db_name};')"
   ]
  },
  {
   "cell_type": "code",
   "execution_count": 13,
   "metadata": {},
   "outputs": [],
   "source": [
    "url = f'jdbc:mysql://localhost:3306/{db_name}'\n",
    "properties = {\n",
    "    'user': 'root',\n",
    "    'password': 'password',\n",
    "    'driver': 'com.mysql.jdbc.Driver'\n",
    "}\n"
   ]
  },
  {
   "cell_type": "code",
   "execution_count": 14,
   "metadata": {},
   "outputs": [
    {
     "name": "stdout",
     "output_type": "stream",
     "text": [
      "+------+----------------+------------+-------------+--------------------+-----------+----------+--------+----------+---------+--------------------+-----------+---------+-----------------+--------------------+\n",
      "|APT_NO|  CREDIT_CARD_NO|   CUST_CITY| CUST_COUNTRY|          CUST_EMAIL| CUST_PHONE|CUST_STATE|CUST_ZIP|FIRST_NAME|LAST_NAME|        LAST_UPDATED|MIDDLE_NAME|      SSN|      STREET_NAME| FULL_STREET_ADDRESS|\n",
      "+------+----------------+------------+-------------+--------------------+-----------+----------+--------+----------+---------+--------------------+-----------+---------+-----------------+--------------------+\n",
      "|   656|4210653310061055|     Natchez|United States| AHooper@example.com|(123)-781-8|        MS|   39120|      Alec|   Hooper|2018-04-21T12:49:...|         wm|123456100|Main Street North|Main Street North...|\n",
      "|   829|4210653310102868|Wethersfield|United States| EHolman@example.com|(123)-893-3|        CT|   06109|      Etta|   Holman|2018-04-21T12:49:...|    brendan|123453023|    Redwood Drive|   Redwood Drive,829|\n",
      "|   683|4210653310116272|     Huntley|United States| WDunham@example.com|(124)-301-8|        IL|   60142|    Wilber|   Dunham|2018-04-21T12:49:...|   ezequiel|123454487| 12th Street East|12th Street East,683|\n",
      "|   253|4210653310195948|   NewBerlin|United States|  EHardy@example.com|(124)-321-5|        WI|   53151|   Eugenio|    Hardy|2018-04-21T12:49:...|      trina|123459758|Country Club Road|Country Club Road...|\n",
      "|   301|4210653310356919|      ElPaso|United States|  WAyers@example.com|(124)-207-4|        TX|   79930|   Wilfred|    Ayers|2018-04-21T12:49:...|        may|123454431|   Madison Street|  Madison Street,301|\n",
      "|     3|4210653310395982|NorthOlmsted|United States|BWoodard@example.com|(124)-257-0|        OH|   44070|      Beau|  Woodard|2018-04-21T12:49:...|    ambrose|123454202|   Colonial Drive|    Colonial Drive,3|\n",
      "|    84|4210653310400536|      Vienna|United States|   SKemp@example.com|(123)-968-5|        VA|   22180|    Sheila|     Kemp|2018-04-21T12:49:...|      larry|123451799|   Belmont Avenue|   Belmont Avenue,84|\n",
      "|   728|4210653310459911|      Duarte|United States| WHurley@example.com|(123)-821-3|        CA|   91010|     Wendy|   Hurley|2018-04-21T12:49:...|        ora|123453875|     Oxford Court|    Oxford Court,728|\n",
      "|    81|4210653310773972|      Owosso|United States|AGilmore@example.com|(124)-068-9|        MI|   48867|      Alec|  Gilmore|2018-04-21T12:49:...|     tracie|123457511|    Forest Street|    Forest Street,81|\n",
      "|   561|4210653310794854|        Zion|United States|    BLau@example.com|(123)-522-2|        IL|   60099|    Barbra|      Lau|2018-04-21T12:49:...|    mitchel|123457464|     Court Street|    Court Street,561|\n",
      "|   622|4210653310817373|  Youngstown|United States|EThomson@example.com|(124)-136-3|        OH|   44512|   Edmundo|  Thomson|2018-04-21T12:49:...|      denny|123457639|    Cypress Court|   Cypress Court,622|\n",
      "|   924|4210653310844617| Summerville|United States| ETruong@example.com|(123)-622-8|        SC|   29483|      Elsa|   Truong|2018-04-21T12:49:...|   isabelle|123453242|  8th Street West| 8th Street West,924|\n",
      "|   611|4210653311015303|      ElPaso|United States|HMckinney@example...|(123)-816-5|        TX|   79930|     Homer| Mckinney|2018-04-21T12:49:...|      henry|123454339|      East Avenue|     East Avenue,611|\n",
      "|   680|4210653311215039|      Fenton|United States|   RKidd@example.com|(123)-473-0|        MI|   48430|      Rita|     Kidd|2018-04-21T12:49:...|     rickey|123454537|         Route 44|        Route 44,680|\n",
      "|    71|4210653311229354|  Grandville|United States|ABallard@example.com|(124)-211-3|        MI|   49418|    Amalia|  Ballard|2018-04-21T12:49:...|  heriberto|123452373|    Warren Street|    Warren Street,71|\n",
      "|   195|4210653311652836|    YubaCity|United States| PThomas@example.com|(123)-988-8|        CA|   95993|     Patty|   Thomas|2018-04-21T12:49:...|   angelita|123455343|     Jones Street|    Jones Street,195|\n",
      "|   500|4210653311707126|   CapeCoral|United States| JMorrow@example.com|(124)-015-8|        FL|   33904|  Josefina|   Morrow|2018-04-21T12:49:...|   dorothea|123451533|       New Street|      New Street,500|\n",
      "|   989|4210653311730764|  Brookfield|United States|NAndrews@example.com|(124)-140-8|        WI|   53045|    Nelson|  Andrews|2018-04-21T12:49:...|  jefferson|123459278|  Division Street| Division Street,989|\n",
      "|   810|4210653311898082|    Richmond|United States|MSchneider@exampl...|(123)-839-0|        VA|   23223|    Miquel|Schneider|2018-04-21T12:49:...|     maximo|123456915|     Maple Street|    Maple Street,810|\n",
      "|   649|4210653312021765| WestChester|United States|PTidwell@example.com|(123)-506-7|        PA|   19380|    Parker|  Tidwell|2018-04-21T12:49:...|    arnulfo|123453807|       Eagle Road|      Eagle Road,649|\n",
      "+------+----------------+------------+-------------+--------------------+-----------+----------+--------+----------+---------+--------------------+-----------+---------+-----------------+--------------------+\n",
      "only showing top 20 rows\n",
      "\n"
     ]
    }
   ],
   "source": [
    "customer_df.show()"
   ]
  },
  {
   "cell_type": "code",
   "execution_count": 15,
   "metadata": {},
   "outputs": [],
   "source": [
    "spark_to_sql(customer_df, table_name='CDW_SAPP_CUSTOMER ', url = url, properties = properties)\n",
    "spark_to_sql(branch_df, table_name='CDW_SAPP_BRANCH', url = url, properties = properties)\n",
    "spark_to_sql(credit_df, table_name='CDW_SAPP_CREDIT_CARD', url = url, properties = properties)\n",
    "spark.stop()"
   ]
  },
  {
   "attachments": {},
   "cell_type": "markdown",
   "metadata": {},
   "source": [
    "---"
   ]
  },
  {
   "attachments": {},
   "cell_type": "markdown",
   "metadata": {},
   "source": [
    "## END"
   ]
  }
 ],
 "metadata": {
  "kernelspec": {
   "display_name": "Python 3",
   "language": "python",
   "name": "python3"
  },
  "language_info": {
   "codemirror_mode": {
    "name": "ipython",
    "version": 3
   },
   "file_extension": ".py",
   "mimetype": "text/x-python",
   "name": "python",
   "nbconvert_exporter": "python",
   "pygments_lexer": "ipython3",
   "version": "3.10.7"
  },
  "orig_nbformat": 4
 },
 "nbformat": 4,
 "nbformat_minor": 2
}
