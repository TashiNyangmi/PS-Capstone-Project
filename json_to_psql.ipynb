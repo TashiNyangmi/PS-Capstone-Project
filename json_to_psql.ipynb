{
 "cells": [
  {
   "cell_type": "code",
   "execution_count": 5,
   "metadata": {},
   "outputs": [],
   "source": [
    "from pyspark.sql import SparkSession\n",
    "from pyspark.sql import Column, DataFrame\n",
    "from pyspark.sql.types import StringType\n",
    "from pyspark.sql import Row\n",
    "\n",
    "from pyspark.sql.functions import col, \\\n",
    "                                  lower, initcap, \\\n",
    "                                  concat, concat_ws, lit, substring, format_string\n",
    "\n",
    "from typing import List, Optional, Union\n",
    "\n",
    "import mysql.connector\n",
    "\n",
    "import unittest"
   ]
  },
  {
   "cell_type": "code",
   "execution_count": 6,
   "metadata": {},
   "outputs": [],
   "source": [
    "ss = SparkSession.builder.master('local[2]').appName('format_json').getOrCreate()"
   ]
  },
  {
   "attachments": {},
   "cell_type": "markdown",
   "metadata": {},
   "source": [
    "---"
   ]
  },
  {
   "attachments": {},
   "cell_type": "markdown",
   "metadata": {},
   "source": [
    "UDF"
   ]
  },
  {
   "cell_type": "code",
   "execution_count": 7,
   "metadata": {},
   "outputs": [],
   "source": [
    "def apply_format_phone_no(column: Union[str, Column]) -> Column:\n",
    "    \"\"\"\n",
    "    Applies phone number formatting to the given Spark Column.\n",
    "\n",
    "    Args:\n",
    "        column (Union[str, Column]): The Spark Column or column name representing the phone number.\n",
    "\n",
    "    Returns:\n",
    "        Column: A new Spark Column with the phone number formatted as '(XXX)-XXX-XXXX'.\n",
    "\n",
    "    Raises:\n",
    "        ValueError: If the provided column is not of type str or Column.\n",
    "\n",
    "    Example:\n",
    "        df = df.withColumn('formatted_phone', apply_format_phone_no(df['phone']))\n",
    "\n",
    "    \"\"\"\n",
    "\n",
    "    # Parameter Validation\n",
    "    if isinstance(column, str):\n",
    "        column = col(column)\n",
    "    elif not isinstance(column, Column):\n",
    "        raise ValueError(\"The column parameter should be of type str or Column.\")\n",
    "\n",
    "    return (concat(lit('('),\n",
    "                   substring(column, 1, 3),\n",
    "                   lit(')-'),\n",
    "                   substring(column, 4, 3),\n",
    "                   lit('-'),\n",
    "                   substring(column, 7, 4)\n",
    "                   )\n",
    "            )\n"
   ]
  },
  {
   "cell_type": "code",
   "execution_count": 8,
   "metadata": {},
   "outputs": [],
   "source": [
    "def spark_to_sql(df: DataFrame, table_name: str = 'table1', url: str = \"\", properties: Optional[dict] = None) -> None:\n",
    "    \"\"\"\n",
    "    Writes the given Spark DataFrame to a SQL database table using JDBC.\n",
    "\n",
    "    Args:\n",
    "        df (DataFrame): The Spark DataFrame to be written to the SQL database.\n",
    "        table_name (str, optional): The name of the table in the SQL database. Default is 'table1'.\n",
    "        url (str, optional): The JDBC URL of the SQL database.\n",
    "        properties (dict, optional): Additional properties for the JDBC connection. Default is None.\n",
    "\n",
    "    Raises:\n",
    "        ValueError: If the input DataFrame or JDBC URL is not provided.\n",
    "\n",
    "    Example:\n",
    "        spark_to_sql(df, table_name='my_table', url='jdbc:mysql://localhost:3306/my_database', properties={'user': 'my_user', 'password': 'my_password'})\n",
    "\n",
    "    \"\"\"\n",
    "    if not df:\n",
    "        raise ValueError(\"Input DataFrame 'df' is required.\")\n",
    "    \n",
    "    if not url:\n",
    "        raise ValueError(\"JDBC URL 'url' is required.\")\n",
    "    \n",
    "    if properties is None:\n",
    "        properties = {}\n",
    "\n",
    "    try:\n",
    "        df.write.jdbc(url=url, table=table_name, mode='overwrite', properties=properties)\n",
    "    except Exception as e:\n",
    "        raise Exception(f\"Error occurred while writing data to the database: {str(e)}\")\n"
   ]
  },
  {
   "attachments": {},
   "cell_type": "markdown",
   "metadata": {},
   "source": [
    "---"
   ]
  },
  {
   "attachments": {},
   "cell_type": "markdown",
   "metadata": {},
   "source": [
    "1. Dataset: Custmer"
   ]
  },
  {
   "cell_type": "code",
   "execution_count": 12,
   "metadata": {},
   "outputs": [],
   "source": [
    "customer_json = 'data/raw_data/cdw_sapp_custmer.json'\n",
    "\n",
    "customer_df = ss.read\\\n",
    "            .option(\"multiline\", False)\\\n",
    "            .json(customer_json)"
   ]
  },
  {
   "cell_type": "code",
   "execution_count": 13,
   "metadata": {},
   "outputs": [],
   "source": [
    "customer_df = (customer_df\n",
    "    .withColumn('FIRST_NAME', initcap('FIRST_NAME'))\n",
    "    .withColumn('MIDDLE_NAME', lower('MIDDLE_NAME'))\n",
    "    .withColumn('LAST_NAME', initcap('LAST_NAME'))\n",
    "    .withColumn('FULL_STREET_ADDRESS', concat_ws(',', 'STREET_NAME', 'APT_NO'))\n",
    "    .withColumn('CUST_PHONE', apply_format_phone_no('CUST_PHONE'))\n",
    ")"
   ]
  },
  {
   "attachments": {},
   "cell_type": "markdown",
   "metadata": {},
   "source": [
    "---"
   ]
  },
  {
   "attachments": {},
   "cell_type": "markdown",
   "metadata": {},
   "source": [
    "2. Dataset: Branch"
   ]
  },
  {
   "cell_type": "code",
   "execution_count": 14,
   "metadata": {},
   "outputs": [],
   "source": [
    "branch_json = 'data/raw_data/cdw_sapp_branch.json'\n",
    "\n",
    "branch_df = ss.read\\\n",
    "            .option(\"multiline\", False)\\\n",
    "            .json(branch_json)"
   ]
  },
  {
   "cell_type": "code",
   "execution_count": 15,
   "metadata": {},
   "outputs": [],
   "source": [
    "branch_df = branch_df.fillna(99999, subset = 'BRANCH_ZIP')\n",
    "branch_df = branch_df.withColumn('BRANCH_PHONE', apply_format_phone_no('BRANCH_PHONE'))"
   ]
  },
  {
   "attachments": {},
   "cell_type": "markdown",
   "metadata": {},
   "source": [
    "---"
   ]
  },
  {
   "attachments": {},
   "cell_type": "markdown",
   "metadata": {},
   "source": [
    "3. Dataset: Credit"
   ]
  },
  {
   "cell_type": "code",
   "execution_count": 16,
   "metadata": {},
   "outputs": [],
   "source": [
    "credit_json = 'data/raw_data/cdw_sapp_credit.json'\n",
    "credit_df = ss.read\\\n",
    "            .option('multiline', False)\\\n",
    "            .json(credit_json)"
   ]
  },
  {
   "cell_type": "code",
   "execution_count": 17,
   "metadata": {},
   "outputs": [],
   "source": [
    "credit_df = credit_df.withColumn('TIMEID', concat_ws('', \n",
    "                                                     'YEAR', \n",
    "                                                     format_string('%02d', 'MONTH'), \n",
    "                                                     format_string('%02d','DAY')))"
   ]
  },
  {
   "attachments": {},
   "cell_type": "markdown",
   "metadata": {},
   "source": [
    "---"
   ]
  },
  {
   "attachments": {},
   "cell_type": "markdown",
   "metadata": {},
   "source": [
    "### SQL"
   ]
  },
  {
   "cell_type": "code",
   "execution_count": 18,
   "metadata": {},
   "outputs": [],
   "source": [
    "# Connect to the MySQL server\n",
    "conn = mysql.connector.connect(\n",
    "    host='localhost',\n",
    "    port='3306',\n",
    "    user='root',\n",
    "    password='password'\n",
    ")"
   ]
  },
  {
   "cell_type": "code",
   "execution_count": 19,
   "metadata": {},
   "outputs": [],
   "source": [
    "db_name = 'creditcard_capstone'\n",
    "cursor = conn.cursor()\n",
    "cursor.execute(f'DROP DATABASE IF EXISTS {db_name};')\n",
    "cursor.execute(f'CREATE DATABASE {db_name};')"
   ]
  },
  {
   "cell_type": "code",
   "execution_count": 20,
   "metadata": {},
   "outputs": [],
   "source": [
    "url = f'jdbc:mysql://localhost:3306/{db_name}'\n",
    "properties = {\n",
    "    'user': 'root',\n",
    "    'password': 'password',\n",
    "    'driver': 'com.mysql.jdbc.Driver'\n",
    "}\n"
   ]
  },
  {
   "cell_type": "code",
   "execution_count": 21,
   "metadata": {},
   "outputs": [],
   "source": [
    "spark_to_sql(customer_df, table_name='customer', url = url, properties = properties)\n",
    "spark_to_sql(branch_df, table_name='branch', url = url, properties = properties)\n",
    "spark_to_sql(credit_df, table_name='credit', url = url, properties = properties)"
   ]
  },
  {
   "attachments": {},
   "cell_type": "markdown",
   "metadata": {},
   "source": [
    "---"
   ]
  },
  {
   "attachments": {},
   "cell_type": "markdown",
   "metadata": {},
   "source": [
    "## END"
   ]
  }
 ],
 "metadata": {
  "kernelspec": {
   "display_name": "Python 3",
   "language": "python",
   "name": "python3"
  },
  "language_info": {
   "codemirror_mode": {
    "name": "ipython",
    "version": 3
   },
   "file_extension": ".py",
   "mimetype": "text/x-python",
   "name": "python",
   "nbconvert_exporter": "python",
   "pygments_lexer": "ipython3",
   "version": "3.10.7"
  },
  "orig_nbformat": 4
 },
 "nbformat": 4,
 "nbformat_minor": 2
}
